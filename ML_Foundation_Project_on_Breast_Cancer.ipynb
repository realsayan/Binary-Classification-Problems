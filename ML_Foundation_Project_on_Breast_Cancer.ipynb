{
  "nbformat": 4,
  "nbformat_minor": 0,
  "metadata": {
    "colab": {
      "name": "ML Foundation Project on Breast Cancer.ipynb",
      "provenance": [],
      "collapsed_sections": []
    },
    "kernelspec": {
      "name": "python3",
      "display_name": "Python 3"
    }
  },
  "cells": [
    {
      "cell_type": "markdown",
      "metadata": {
        "id": "3W6wWHeSBjtS",
        "colab_type": "text"
      },
      "source": [
        "#ML Foundation Project on Breast Cancer"
      ]
    },
    {
      "cell_type": "markdown",
      "metadata": {
        "id": "lhCow7SyB6w6",
        "colab_type": "text"
      },
      "source": [
        "## Table of Contents\n",
        "\n",
        "1. [Problem Statement](#section1)<br>\n",
        "2. [Data Loading and Description](#section2)<br>\n",
        "3. [Preprocessing the data](#section3)<br>\n",
        "  - 3.1 [Understanding the data](#section301)<br>\n",
        "  - 3.2 [Imputation of missing data](#section302)<br>\n",
        "4. [Exploratory Data Analysis](#section4)<br>\n",
        "  - 4.1 [Correlation between class, age and menopause attributes](#section401)<br>\n",
        "  - 4.2 [Correlation between class and tumor size attributes](#section402)<br>\n",
        "  - 4.3 [Correlation between class and inv nodes attributes](#section403)<br>\n",
        "  - 4.4 [Correlation between class, node caps, breast and degree of malignancy attributes](#section404)<br>\n",
        "  - 4.5 [Correlation between class, breast quad and irradiate attributes](#section405)<br>\n",
        "  - 4.6 [Summary of EDA](#section406)<br>\n",
        "5. [Model Building](#section5)<br>\n",
        "  - 5.1 [Split data for training and testing](#section501)<br>\n",
        "  - 5.2 [Build a Logistic Regression model](#section502)<br>\n",
        "  - 5.3 [Precision, Recall and F1 Score for Logistic Regression](#section503)<br>\n",
        "  - 5.4 [Build a Random Forrest model](#section504)<br>\n",
        "  - 5.5 [Precision, Recall and F1 Score for Random Forrest](#section505)<br>\n",
        "  - 5.6 [Tune the Random Forrest model](#section506)<br>\n",
        "  - 5.7 [Precision, Recall and F1 Score after tuning Random Forrest](#section507)<br>\n",
        "  - 5.8 [Summary of Model Evaluation](#section508)<br>\n",
        "6. [Conclusion](#section6)<br>"
      ]
    },
    {
      "cell_type": "markdown",
      "metadata": {
        "id": "y8dKszIxD_yo",
        "colab_type": "text"
      },
      "source": [
        "<a id=section1></a>\n",
        "## 1. Problem Statement\n",
        "\n",
        "We have to look into the **Breast Cancer** dataset, provided by the Oncology Institute which captures whether the events where **recurrent or not**. The objective shall be to **treat data gaps** and **missing values** first. Then we are expected to train **binary classification** models in order to **predict the recurring events**. We must use appropriate **evaluation metrics** to judge the **performance of our model**."
      ]
    },
    {
      "cell_type": "markdown",
      "metadata": {
        "id": "-lh6rBsmGLVm",
        "colab_type": "text"
      },
      "source": [
        "<a id=section2></a>\n",
        "## 2. Data Loading and Description\n"
      ]
    },
    {
      "cell_type": "markdown",
      "metadata": {
        "id": "ZA4uqRgfGaN0",
        "colab_type": "text"
      },
      "source": [
        "- This is one of three domains provided by the **Oncology Institute** that has repeatedly appeared in the machine learning literature.\n",
        "\n",
        "- This data set includes **201 instances** of **one class** and **85 instances** of **another class**. The instances are described by **9 attributes**, some of which are linear and some are nominal.\n",
        "\n",
        "- There are **missing values present** in the data."
      ]
    },
    {
      "cell_type": "markdown",
      "metadata": {
        "id": "a8hFps74HKTo",
        "colab_type": "text"
      },
      "source": [
        "| Column Name   | Description                                               |\n",
        "| ------------- |:-------------                                            :| \n",
        "| class          | no-recurrence-events, recurrence-events      | \n",
        "| age            | 10-19, 20-29, 30-39, 40-49, 50-59, 60-69, 70-79, 80-89, 90-99 |  \n",
        "| menopause      | lt40, ge40, premeno     | \n",
        "| tumor_size\t   | 0-4, 5-9, 10-14, 15-19, 20-24, 25-29, 30-34, 35-39, 40-44, 45-49, 50-54, 55-59  |   \n",
        "| inv_nodes      | 0-2, 3-5, 6-8, 9-11, 12-14, 15-17, 18-20, 21-23, 24-26, 27-29, 30-32, 33-35, 36-39|\n",
        "| node_caps      | yes, no  |\n",
        "| deg_malig      | 1, 2, 3 |\n",
        "| breast         | left, right|\n",
        "| breast_quad    | left-up, left-low, right-up, right-low, central |\n",
        "| irradiat       | yes, no                                          |\n"
      ]
    },
    {
      "cell_type": "markdown",
      "metadata": {
        "id": "ZvSI6P0jQQtM",
        "colab_type": "text"
      },
      "source": [
        "__Importing Packages__"
      ]
    },
    {
      "cell_type": "code",
      "metadata": {
        "id": "CBt63suX_5u5",
        "colab_type": "code",
        "colab": {}
      },
      "source": [
        "import pandas as pd\n",
        "import seaborn as sns\n",
        "import matplotlib.pyplot as plt\n",
        "\n",
        "from sklearn import metrics\n",
        "\n",
        "import numpy as np\n",
        "\n",
        "# allow plots to appear directly in the notebook\n",
        "%matplotlib inline\n",
        "sns.set()\n",
        "\n",
        "import warnings\n",
        "warnings.filterwarnings('ignore')"
      ],
      "execution_count": null,
      "outputs": []
    },
    {
      "cell_type": "markdown",
      "metadata": {
        "id": "l0C_a02zQWwM",
        "colab_type": "text"
      },
      "source": [
        "__Importing the Dataset__"
      ]
    },
    {
      "cell_type": "code",
      "metadata": {
        "id": "57UMGf5yQXw-",
        "colab_type": "code",
        "colab": {
          "base_uri": "https://localhost:8080/",
          "height": 235
        },
        "outputId": "9ec5f153-ae85-4fcd-970b-2f92644d990a"
      },
      "source": [
        "data = pd.read_csv('https://raw.githubusercontent.com/realsayan/Simple-Datasets/master/breast-cancer.csv', index_col=0)\n",
        "data.head()"
      ],
      "execution_count": null,
      "outputs": [
        {
          "output_type": "execute_result",
          "data": {
            "text/html": [
              "<div>\n",
              "<style scoped>\n",
              "    .dataframe tbody tr th:only-of-type {\n",
              "        vertical-align: middle;\n",
              "    }\n",
              "\n",
              "    .dataframe tbody tr th {\n",
              "        vertical-align: top;\n",
              "    }\n",
              "\n",
              "    .dataframe thead th {\n",
              "        text-align: right;\n",
              "    }\n",
              "</style>\n",
              "<table border=\"1\" class=\"dataframe\">\n",
              "  <thead>\n",
              "    <tr style=\"text-align: right;\">\n",
              "      <th></th>\n",
              "      <th>age</th>\n",
              "      <th>menopause</th>\n",
              "      <th>tumor_size</th>\n",
              "      <th>inv_nodes</th>\n",
              "      <th>node_caps</th>\n",
              "      <th>deg_malig</th>\n",
              "      <th>breast</th>\n",
              "      <th>breast_quad</th>\n",
              "      <th>irradiat</th>\n",
              "    </tr>\n",
              "    <tr>\n",
              "      <th>class</th>\n",
              "      <th></th>\n",
              "      <th></th>\n",
              "      <th></th>\n",
              "      <th></th>\n",
              "      <th></th>\n",
              "      <th></th>\n",
              "      <th></th>\n",
              "      <th></th>\n",
              "      <th></th>\n",
              "    </tr>\n",
              "  </thead>\n",
              "  <tbody>\n",
              "    <tr>\n",
              "      <th>no-recurrence-events</th>\n",
              "      <td>30-39</td>\n",
              "      <td>premeno</td>\n",
              "      <td>30-34</td>\n",
              "      <td>0-2</td>\n",
              "      <td>no</td>\n",
              "      <td>3</td>\n",
              "      <td>left</td>\n",
              "      <td>left_low</td>\n",
              "      <td>no</td>\n",
              "    </tr>\n",
              "    <tr>\n",
              "      <th>no-recurrence-events</th>\n",
              "      <td>40-49</td>\n",
              "      <td>premeno</td>\n",
              "      <td>20-24</td>\n",
              "      <td>0-2</td>\n",
              "      <td>no</td>\n",
              "      <td>2</td>\n",
              "      <td>right</td>\n",
              "      <td>right_up</td>\n",
              "      <td>no</td>\n",
              "    </tr>\n",
              "    <tr>\n",
              "      <th>no-recurrence-events</th>\n",
              "      <td>40-49</td>\n",
              "      <td>premeno</td>\n",
              "      <td>20-24</td>\n",
              "      <td>0-2</td>\n",
              "      <td>no</td>\n",
              "      <td>2</td>\n",
              "      <td>left</td>\n",
              "      <td>left_low</td>\n",
              "      <td>no</td>\n",
              "    </tr>\n",
              "    <tr>\n",
              "      <th>no-recurrence-events</th>\n",
              "      <td>60-69</td>\n",
              "      <td>ge40</td>\n",
              "      <td>15-19</td>\n",
              "      <td>0-2</td>\n",
              "      <td>no</td>\n",
              "      <td>2</td>\n",
              "      <td>right</td>\n",
              "      <td>left_up</td>\n",
              "      <td>no</td>\n",
              "    </tr>\n",
              "    <tr>\n",
              "      <th>no-recurrence-events</th>\n",
              "      <td>40-49</td>\n",
              "      <td>premeno</td>\n",
              "      <td>0-4</td>\n",
              "      <td>0-2</td>\n",
              "      <td>no</td>\n",
              "      <td>2</td>\n",
              "      <td>right</td>\n",
              "      <td>right_low</td>\n",
              "      <td>no</td>\n",
              "    </tr>\n",
              "  </tbody>\n",
              "</table>\n",
              "</div>"
            ],
            "text/plain": [
              "                        age menopause tumor_size  ... breast breast_quad  irradiat\n",
              "class                                             ...                             \n",
              "no-recurrence-events  30-39   premeno      30-34  ...   left    left_low        no\n",
              "no-recurrence-events  40-49   premeno      20-24  ...  right    right_up        no\n",
              "no-recurrence-events  40-49   premeno      20-24  ...   left    left_low        no\n",
              "no-recurrence-events  60-69      ge40      15-19  ...  right     left_up        no\n",
              "no-recurrence-events  40-49   premeno        0-4  ...  right   right_low        no\n",
              "\n",
              "[5 rows x 9 columns]"
            ]
          },
          "metadata": {
            "tags": []
          },
          "execution_count": 1462
        }
      ]
    },
    {
      "cell_type": "markdown",
      "metadata": {
        "id": "H2GdiE2ZcNdg",
        "colab_type": "text"
      },
      "source": [
        "Here we observe that the first **column class**, has been considered as the **index**. This must be **corrected** as it is an integral column in our data."
      ]
    },
    {
      "cell_type": "code",
      "metadata": {
        "id": "CFwBPZ4tRvF5",
        "colab_type": "code",
        "colab": {
          "base_uri": "https://localhost:8080/",
          "height": 255
        },
        "outputId": "9bf193d2-04f3-4e69-db72-46813508ccde"
      },
      "source": [
        "data.reset_index(level=0, inplace=True)\n",
        "print(data)\n",
        "data_backup = data.copy()"
      ],
      "execution_count": null,
      "outputs": [
        {
          "output_type": "stream",
          "text": [
            "                    class    age menopause  ... breast breast_quad irradiat\n",
            "0    no-recurrence-events  30-39   premeno  ...   left    left_low       no\n",
            "1    no-recurrence-events  40-49   premeno  ...  right    right_up       no\n",
            "2    no-recurrence-events  40-49   premeno  ...   left    left_low       no\n",
            "3    no-recurrence-events  60-69      ge40  ...  right     left_up       no\n",
            "4    no-recurrence-events  40-49   premeno  ...  right   right_low       no\n",
            "..                    ...    ...       ...  ...    ...         ...      ...\n",
            "281     recurrence-events  30-39   premeno  ...   left     left_up       no\n",
            "282     recurrence-events  30-39   premeno  ...   left     left_up      yes\n",
            "283     recurrence-events  60-69      ge40  ...  right     left_up       no\n",
            "284     recurrence-events  40-49      ge40  ...   left    left_low       no\n",
            "285     recurrence-events  50-59      ge40  ...   left    left_low       no\n",
            "\n",
            "[286 rows x 10 columns]\n"
          ],
          "name": "stdout"
        }
      ]
    },
    {
      "cell_type": "markdown",
      "metadata": {
        "id": "FCD97ww5c681",
        "colab_type": "text"
      },
      "source": [
        "Accordingly, after using **reset_index()** method we get the **rectified dataframe** which has **class** as the **first column**."
      ]
    },
    {
      "cell_type": "markdown",
      "metadata": {
        "id": "lpkwBdqX6L42",
        "colab_type": "text"
      },
      "source": [
        "<a id=section3></a>\n",
        "## 3. Preprocessing the data"
      ]
    },
    {
      "cell_type": "markdown",
      "metadata": {
        "id": "UwKiwYL6IRqe",
        "colab_type": "text"
      },
      "source": [
        "<a id=section301></a>\n",
        "### 3.1 Understanding the data"
      ]
    },
    {
      "cell_type": "code",
      "metadata": {
        "id": "WAqq85vfUvVt",
        "colab_type": "code",
        "colab": {
          "base_uri": "https://localhost:8080/",
          "height": 306
        },
        "outputId": "9d44f6ff-f90a-4f7c-ddd6-866c788e4d5f"
      },
      "source": [
        "data.info()"
      ],
      "execution_count": null,
      "outputs": [
        {
          "output_type": "stream",
          "text": [
            "<class 'pandas.core.frame.DataFrame'>\n",
            "RangeIndex: 286 entries, 0 to 285\n",
            "Data columns (total 10 columns):\n",
            " #   Column       Non-Null Count  Dtype \n",
            "---  ------       --------------  ----- \n",
            " 0   class        286 non-null    object\n",
            " 1   age          286 non-null    object\n",
            " 2   menopause    286 non-null    object\n",
            " 3   tumor_size   286 non-null    object\n",
            " 4   inv_nodes    286 non-null    object\n",
            " 5   node_caps    286 non-null    object\n",
            " 6   deg_malig    286 non-null    int64 \n",
            " 7   breast       286 non-null    object\n",
            " 8   breast_quad  286 non-null    object\n",
            " 9   irradiat     286 non-null    object\n",
            "dtypes: int64(1), object(9)\n",
            "memory usage: 22.5+ KB\n"
          ],
          "name": "stdout"
        }
      ]
    },
    {
      "cell_type": "markdown",
      "metadata": {
        "id": "o1l3kSLW7cOm",
        "colab_type": "text"
      },
      "source": [
        "Apparently from **info()** method, there are **no missing values**. However, the dataset was mentioned to contain missing value. Hence we **must dig deeper** and look out for **invalid values**."
      ]
    },
    {
      "cell_type": "code",
      "metadata": {
        "id": "fSrfTD5nncDf",
        "colab_type": "code",
        "colab": {
          "base_uri": "https://localhost:8080/",
          "height": 204
        },
        "outputId": "f8c95914-e3d1-4f2c-dcba-a0698909bbde"
      },
      "source": [
        "#Get distinct values for each column to find invalid data, because it was mentioned there is missing data\n",
        "for i in data.columns:\n",
        "  print('Unique values in ',i,' column are : ',data[i].unique())\n"
      ],
      "execution_count": null,
      "outputs": [
        {
          "output_type": "stream",
          "text": [
            "Unique values in  class  column are :  ['no-recurrence-events' 'recurrence-events']\n",
            "Unique values in  age  column are :  ['30-39' '40-49' '60-69' '50-59' '70-79' '20-29']\n",
            "Unique values in  menopause  column are :  ['premeno' 'ge40' 'lt40']\n",
            "Unique values in  tumor_size  column are :  ['30-34' '20-24' '15-19' '0-4' '25-29' '50-54' '10-14' '40-44' '35-39'\n",
            " '5-9' '45-49']\n",
            "Unique values in  inv_nodes  column are :  ['0-2' '6-8' '9-11' '3-5' '15-17' '12-14' '24-26']\n",
            "Unique values in  node_caps  column are :  ['no' 'yes' '?']\n",
            "Unique values in  deg_malig  column are :  [3 2 1]\n",
            "Unique values in  breast  column are :  ['left' 'right']\n",
            "Unique values in  breast_quad  column are :  ['left_low' 'right_up' 'left_up' 'right_low' 'central' '?']\n",
            "Unique values in  irradiat  column are :  ['no' 'yes']\n"
          ],
          "name": "stdout"
        }
      ]
    },
    {
      "cell_type": "markdown",
      "metadata": {
        "id": "Xy-2hrKd9J6v",
        "colab_type": "text"
      },
      "source": [
        "We list out the sets of unique values for each column. \n",
        "- It is observed that for columns **node_caps** and **breast_quad** there are **invalid data** present in the form of **'?'**. These will need to be **imputed**.\n",
        "- The **target variable** (column **class**) does not have any invalid value and the **two types** of value present are : **['no-recurrence-events' 'recurrence-events']**"
      ]
    },
    {
      "cell_type": "code",
      "metadata": {
        "id": "2Zsf_qc7Z8me",
        "colab_type": "code",
        "colab": {
          "base_uri": "https://localhost:8080/",
          "height": 306
        },
        "outputId": "afaa2249-00e4-482d-fa88-dbf958d2a7df"
      },
      "source": [
        "print('Frequency of unique values for column class :\\n',data['class'].value_counts())\n",
        "print('Frequency of unique values for column node_caps :\\n',data['node_caps'].value_counts())\n",
        "print('Frequency of unique values for column breast_quad :\\n',data['breast_quad'].value_counts())"
      ],
      "execution_count": null,
      "outputs": [
        {
          "output_type": "stream",
          "text": [
            "Frequency of unique values for column class :\n",
            " no-recurrence-events    201\n",
            "recurrence-events        85\n",
            "Name: class, dtype: int64\n",
            "Frequency of unique values for column node_caps :\n",
            " no     222\n",
            "yes     56\n",
            "?        8\n",
            "Name: node_caps, dtype: int64\n",
            "Frequency of unique values for column breast_quad :\n",
            " left_low     110\n",
            "left_up       97\n",
            "right_up      33\n",
            "right_low     24\n",
            "central       21\n",
            "?              1\n",
            "Name: breast_quad, dtype: int64\n"
          ],
          "name": "stdout"
        }
      ]
    },
    {
      "cell_type": "markdown",
      "metadata": {
        "id": "aV1oWtWR__nR",
        "colab_type": "text"
      },
      "source": [
        "- Frequency of the **major class** of the target variable : 201 i.e. **70.2797%**\n",
        "- Frequency of the **minor class** of the target variable : 85 i.e. **29.7203%**\n",
        "- For column **node_caps** there are **8 occurances** of invalid data **'?'**\n",
        "- For column **breast_quad** there is **single occurance** of invalid data **'?'**"
      ]
    },
    {
      "cell_type": "markdown",
      "metadata": {
        "id": "XnKojzxT9VLN",
        "colab_type": "text"
      },
      "source": [
        "<a id=section302></a>\n",
        "### 3.2 Imputation of missing data"
      ]
    },
    {
      "cell_type": "markdown",
      "metadata": {
        "id": "gLM7LsvdJ0jb",
        "colab_type": "text"
      },
      "source": [
        "Since columns **node_caps** and **breast_quad** are likely to be **dependent** on many of the **other features** we do not go for replacement using the mode value. Instead we plan to use the **KNN Imputer**, which uses **other features** to **determine these columns** wherever missing.\n",
        "- As a **pre-requisite** to apply **KNN Imputer**, we need the dataset to comprise **only** of **numerical data**.\n",
        "- Our approach shall be to use **One Hot Encoding** to achieve this. The justification being that the **categorical** features are **not ordinal**."
      ]
    },
    {
      "cell_type": "markdown",
      "metadata": {
        "id": "E1KWyltLJjZ7",
        "colab_type": "text"
      },
      "source": [
        "__Apply One Hot Encoding to the data__"
      ]
    },
    {
      "cell_type": "code",
      "metadata": {
        "id": "-xrc_TQH3YT7",
        "colab_type": "code",
        "colab": {
          "base_uri": "https://localhost:8080/",
          "height": 241
        },
        "outputId": "5e77d4e4-4dfe-4893-bd18-888f321692f3"
      },
      "source": [
        "data_for_impute = pd.get_dummies(data, prefix=['class', 'age', 'menopause', 'tumor_size', 'inv_nodes', 'node_caps', 'breast', 'breast_quad', 'irradiat'], drop_first=True)\n",
        "data_for_impute.head()"
      ],
      "execution_count": null,
      "outputs": [
        {
          "output_type": "execute_result",
          "data": {
            "text/html": [
              "<div>\n",
              "<style scoped>\n",
              "    .dataframe tbody tr th:only-of-type {\n",
              "        vertical-align: middle;\n",
              "    }\n",
              "\n",
              "    .dataframe tbody tr th {\n",
              "        vertical-align: top;\n",
              "    }\n",
              "\n",
              "    .dataframe thead th {\n",
              "        text-align: right;\n",
              "    }\n",
              "</style>\n",
              "<table border=\"1\" class=\"dataframe\">\n",
              "  <thead>\n",
              "    <tr style=\"text-align: right;\">\n",
              "      <th></th>\n",
              "      <th>deg_malig</th>\n",
              "      <th>class_recurrence-events</th>\n",
              "      <th>age_30-39</th>\n",
              "      <th>age_40-49</th>\n",
              "      <th>age_50-59</th>\n",
              "      <th>age_60-69</th>\n",
              "      <th>age_70-79</th>\n",
              "      <th>menopause_lt40</th>\n",
              "      <th>menopause_premeno</th>\n",
              "      <th>tumor_size_10-14</th>\n",
              "      <th>tumor_size_15-19</th>\n",
              "      <th>tumor_size_20-24</th>\n",
              "      <th>tumor_size_25-29</th>\n",
              "      <th>tumor_size_30-34</th>\n",
              "      <th>tumor_size_35-39</th>\n",
              "      <th>tumor_size_40-44</th>\n",
              "      <th>tumor_size_45-49</th>\n",
              "      <th>tumor_size_5-9</th>\n",
              "      <th>tumor_size_50-54</th>\n",
              "      <th>inv_nodes_12-14</th>\n",
              "      <th>inv_nodes_15-17</th>\n",
              "      <th>inv_nodes_24-26</th>\n",
              "      <th>inv_nodes_3-5</th>\n",
              "      <th>inv_nodes_6-8</th>\n",
              "      <th>inv_nodes_9-11</th>\n",
              "      <th>node_caps_no</th>\n",
              "      <th>node_caps_yes</th>\n",
              "      <th>breast_right</th>\n",
              "      <th>breast_quad_central</th>\n",
              "      <th>breast_quad_left_low</th>\n",
              "      <th>breast_quad_left_up</th>\n",
              "      <th>breast_quad_right_low</th>\n",
              "      <th>breast_quad_right_up</th>\n",
              "      <th>irradiat_yes</th>\n",
              "    </tr>\n",
              "  </thead>\n",
              "  <tbody>\n",
              "    <tr>\n",
              "      <th>0</th>\n",
              "      <td>3</td>\n",
              "      <td>0</td>\n",
              "      <td>1</td>\n",
              "      <td>0</td>\n",
              "      <td>0</td>\n",
              "      <td>0</td>\n",
              "      <td>0</td>\n",
              "      <td>0</td>\n",
              "      <td>1</td>\n",
              "      <td>0</td>\n",
              "      <td>0</td>\n",
              "      <td>0</td>\n",
              "      <td>0</td>\n",
              "      <td>1</td>\n",
              "      <td>0</td>\n",
              "      <td>0</td>\n",
              "      <td>0</td>\n",
              "      <td>0</td>\n",
              "      <td>0</td>\n",
              "      <td>0</td>\n",
              "      <td>0</td>\n",
              "      <td>0</td>\n",
              "      <td>0</td>\n",
              "      <td>0</td>\n",
              "      <td>0</td>\n",
              "      <td>1</td>\n",
              "      <td>0</td>\n",
              "      <td>0</td>\n",
              "      <td>0</td>\n",
              "      <td>1</td>\n",
              "      <td>0</td>\n",
              "      <td>0</td>\n",
              "      <td>0</td>\n",
              "      <td>0</td>\n",
              "    </tr>\n",
              "    <tr>\n",
              "      <th>1</th>\n",
              "      <td>2</td>\n",
              "      <td>0</td>\n",
              "      <td>0</td>\n",
              "      <td>1</td>\n",
              "      <td>0</td>\n",
              "      <td>0</td>\n",
              "      <td>0</td>\n",
              "      <td>0</td>\n",
              "      <td>1</td>\n",
              "      <td>0</td>\n",
              "      <td>0</td>\n",
              "      <td>1</td>\n",
              "      <td>0</td>\n",
              "      <td>0</td>\n",
              "      <td>0</td>\n",
              "      <td>0</td>\n",
              "      <td>0</td>\n",
              "      <td>0</td>\n",
              "      <td>0</td>\n",
              "      <td>0</td>\n",
              "      <td>0</td>\n",
              "      <td>0</td>\n",
              "      <td>0</td>\n",
              "      <td>0</td>\n",
              "      <td>0</td>\n",
              "      <td>1</td>\n",
              "      <td>0</td>\n",
              "      <td>1</td>\n",
              "      <td>0</td>\n",
              "      <td>0</td>\n",
              "      <td>0</td>\n",
              "      <td>0</td>\n",
              "      <td>1</td>\n",
              "      <td>0</td>\n",
              "    </tr>\n",
              "    <tr>\n",
              "      <th>2</th>\n",
              "      <td>2</td>\n",
              "      <td>0</td>\n",
              "      <td>0</td>\n",
              "      <td>1</td>\n",
              "      <td>0</td>\n",
              "      <td>0</td>\n",
              "      <td>0</td>\n",
              "      <td>0</td>\n",
              "      <td>1</td>\n",
              "      <td>0</td>\n",
              "      <td>0</td>\n",
              "      <td>1</td>\n",
              "      <td>0</td>\n",
              "      <td>0</td>\n",
              "      <td>0</td>\n",
              "      <td>0</td>\n",
              "      <td>0</td>\n",
              "      <td>0</td>\n",
              "      <td>0</td>\n",
              "      <td>0</td>\n",
              "      <td>0</td>\n",
              "      <td>0</td>\n",
              "      <td>0</td>\n",
              "      <td>0</td>\n",
              "      <td>0</td>\n",
              "      <td>1</td>\n",
              "      <td>0</td>\n",
              "      <td>0</td>\n",
              "      <td>0</td>\n",
              "      <td>1</td>\n",
              "      <td>0</td>\n",
              "      <td>0</td>\n",
              "      <td>0</td>\n",
              "      <td>0</td>\n",
              "    </tr>\n",
              "    <tr>\n",
              "      <th>3</th>\n",
              "      <td>2</td>\n",
              "      <td>0</td>\n",
              "      <td>0</td>\n",
              "      <td>0</td>\n",
              "      <td>0</td>\n",
              "      <td>1</td>\n",
              "      <td>0</td>\n",
              "      <td>0</td>\n",
              "      <td>0</td>\n",
              "      <td>0</td>\n",
              "      <td>1</td>\n",
              "      <td>0</td>\n",
              "      <td>0</td>\n",
              "      <td>0</td>\n",
              "      <td>0</td>\n",
              "      <td>0</td>\n",
              "      <td>0</td>\n",
              "      <td>0</td>\n",
              "      <td>0</td>\n",
              "      <td>0</td>\n",
              "      <td>0</td>\n",
              "      <td>0</td>\n",
              "      <td>0</td>\n",
              "      <td>0</td>\n",
              "      <td>0</td>\n",
              "      <td>1</td>\n",
              "      <td>0</td>\n",
              "      <td>1</td>\n",
              "      <td>0</td>\n",
              "      <td>0</td>\n",
              "      <td>1</td>\n",
              "      <td>0</td>\n",
              "      <td>0</td>\n",
              "      <td>0</td>\n",
              "    </tr>\n",
              "    <tr>\n",
              "      <th>4</th>\n",
              "      <td>2</td>\n",
              "      <td>0</td>\n",
              "      <td>0</td>\n",
              "      <td>1</td>\n",
              "      <td>0</td>\n",
              "      <td>0</td>\n",
              "      <td>0</td>\n",
              "      <td>0</td>\n",
              "      <td>1</td>\n",
              "      <td>0</td>\n",
              "      <td>0</td>\n",
              "      <td>0</td>\n",
              "      <td>0</td>\n",
              "      <td>0</td>\n",
              "      <td>0</td>\n",
              "      <td>0</td>\n",
              "      <td>0</td>\n",
              "      <td>0</td>\n",
              "      <td>0</td>\n",
              "      <td>0</td>\n",
              "      <td>0</td>\n",
              "      <td>0</td>\n",
              "      <td>0</td>\n",
              "      <td>0</td>\n",
              "      <td>0</td>\n",
              "      <td>1</td>\n",
              "      <td>0</td>\n",
              "      <td>1</td>\n",
              "      <td>0</td>\n",
              "      <td>0</td>\n",
              "      <td>0</td>\n",
              "      <td>1</td>\n",
              "      <td>0</td>\n",
              "      <td>0</td>\n",
              "    </tr>\n",
              "  </tbody>\n",
              "</table>\n",
              "</div>"
            ],
            "text/plain": [
              "   deg_malig  class_recurrence-events  ...  breast_quad_right_up  irradiat_yes\n",
              "0          3                        0  ...                     0             0\n",
              "1          2                        0  ...                     1             0\n",
              "2          2                        0  ...                     0             0\n",
              "3          2                        0  ...                     0             0\n",
              "4          2                        0  ...                     0             0\n",
              "\n",
              "[5 rows x 34 columns]"
            ]
          },
          "metadata": {
            "tags": []
          },
          "execution_count": 1467
        }
      ]
    },
    {
      "cell_type": "markdown",
      "metadata": {
        "id": "AaM-I7S0P9rg",
        "colab_type": "text"
      },
      "source": [
        "After using the get_dummies() method, we get a One Hot Encoded dataset as desired. <br> However **before imputing** we need to **replace** the **'?'** values **with NaN** values."
      ]
    },
    {
      "cell_type": "code",
      "metadata": {
        "id": "dwDWQxrJ8D0W",
        "colab_type": "code",
        "colab": {
          "base_uri": "https://localhost:8080/",
          "height": 238
        },
        "outputId": "7d9d1ab8-f5e7-417a-df23-c4be0dd76fff"
      },
      "source": [
        "data_for_impute_copy = data_for_impute.copy() #create a copy of the encoded dataset\n",
        "data_for_impute.loc[((data_for_impute['node_caps_no']==0) & (data_for_impute['node_caps_yes']==0)),['node_caps_no','node_caps_yes']]=np.NaN\n",
        "# When value of both the columns 'node_caps_no' and 'node_caps_yes' are 0 at the same time, it means it was originally '?'\n",
        "# Hence we set the value as NaN\n",
        "print(data_for_impute.loc[((data_for_impute_copy['node_caps_no']==0) & (data_for_impute_copy['node_caps_yes']==0)),['node_caps_no','node_caps_yes']])\n",
        "\n",
        "data_for_impute.loc[((data_for_impute['breast_quad_left_low']==0) & (data_for_impute['breast_quad_left_up']==0) & (data_for_impute['breast_quad_right_up']==0) & (data_for_impute['breast_quad_right_low']==0) & (data_for_impute['breast_quad_central']==0) ),['breast_quad_left_low','breast_quad_left_up','breast_quad_right_up','breast_quad_right_low','breast_quad_central']]=np.NaN\n",
        "# Similarly when values for all the columns with prefix 'breast_quad_' are 0 at the same time, it means it was originally '?'\n",
        "# Hence we set the value as NaN\n",
        "print(data_for_impute.loc[((data_for_impute_copy['breast_quad_left_low']==0) & (data_for_impute_copy['breast_quad_left_up']==0) & (data_for_impute_copy['breast_quad_right_up']==0) & (data_for_impute_copy['breast_quad_right_low']==0) & (data_for_impute_copy['breast_quad_central']==0)),['breast_quad_left_low','breast_quad_left_up','breast_quad_right_up','breast_quad_right_low','breast_quad_central']])\n"
      ],
      "execution_count": null,
      "outputs": [
        {
          "output_type": "stream",
          "text": [
            "     node_caps_no  node_caps_yes\n",
            "145           NaN            NaN\n",
            "163           NaN            NaN\n",
            "164           NaN            NaN\n",
            "183           NaN            NaN\n",
            "184           NaN            NaN\n",
            "233           NaN            NaN\n",
            "263           NaN            NaN\n",
            "264           NaN            NaN\n",
            "     breast_quad_left_low  ...  breast_quad_central\n",
            "206                   NaN  ...                  NaN\n",
            "\n",
            "[1 rows x 5 columns]\n"
          ],
          "name": "stdout"
        }
      ]
    },
    {
      "cell_type": "markdown",
      "metadata": {
        "id": "apROt-GnT5nu",
        "colab_type": "text"
      },
      "source": [
        "__Apply KNN Imputer to replace missing values__"
      ]
    },
    {
      "cell_type": "code",
      "metadata": {
        "id": "D6qYVRF1qVi6",
        "colab_type": "code",
        "colab": {}
      },
      "source": [
        "from sklearn.impute import KNNImputer\n",
        "imputer = KNNImputer(n_neighbors=2)\n",
        "data_for_impute = pd.DataFrame(imputer.fit_transform(data_for_impute))\n",
        "\n",
        "# Below 2 lines are required just for checking the original numbers of '?' values, so keeping them commented unless required\n",
        "# print('Frequency of unique values for column node_caps : \\n',data['node_caps'].value_counts())\n",
        "# print('Frequency of unique values for column breast_quad : \\n',data['breast_quad'].value_counts())"
      ],
      "execution_count": null,
      "outputs": []
    },
    {
      "cell_type": "code",
      "metadata": {
        "id": "83tqGwtclVlN",
        "colab_type": "code",
        "colab": {
          "base_uri": "https://localhost:8080/",
          "height": 697
        },
        "outputId": "739fe751-3abc-45ad-ea03-85e5e8c1c497"
      },
      "source": [
        "# Check the outcome for columns with prefix 'node_caps_' after imputation for the eight rows that required rectification\n",
        "# Columns in focus are from 25 to 26\n",
        "print(\"\\n\\nOutcome for columns with prefix 'node_caps_' after imputation for row index (145) that required rectification\")\n",
        "print(data_for_impute.iloc[145,25:27])\n",
        "print(\"\\n\\nOutcome for columns with prefix 'node_caps_' after imputation for row index (163,164) that required rectification\")\n",
        "print(data_for_impute.iloc[163:165,25:27])\n",
        "print(\"\\n\\nOutcome for columns with prefix 'node_caps_' after imputation for row index (183,184) that required rectification\")\n",
        "print(data_for_impute.iloc[183:185,25:27])\n",
        "print(\"\\n\\nOutcome for columns with prefix 'node_caps_' after imputation for row index (233) that required rectification\")\n",
        "print(data_for_impute.iloc[233,25:27])\n",
        "print(\"\\n\\nOutcome for columns with prefix 'node_caps_' after imputation for row index (263,264) that required rectification\")\n",
        "print(data_for_impute.iloc[263:265,25:27])\n",
        "\n",
        "# Check the outcome for columns with prefix 'breast_quad_' after imputation for the single row that required rectification\n",
        "# Columns in focus are from 27 to 32\n",
        "print(\"\\n\\nOutcome for columns with prefix 'breast_quad_' after imputation for row index (206) that required rectification\")\n",
        "data_for_impute.iloc[206,27:33]"
      ],
      "execution_count": null,
      "outputs": [
        {
          "output_type": "stream",
          "text": [
            "\n",
            "\n",
            "Outcome for columns with prefix 'node_caps_' after imputation for row index (145) that required rectification\n",
            "25    1.0\n",
            "26    0.0\n",
            "Name: 145, dtype: float64\n",
            "\n",
            "\n",
            "Outcome for columns with prefix 'node_caps_' after imputation for row index (163,164) that required rectification\n",
            "      25   26\n",
            "163  1.0  0.0\n",
            "164  1.0  0.0\n",
            "\n",
            "\n",
            "Outcome for columns with prefix 'node_caps_' after imputation for row index (183,184) that required rectification\n",
            "      25   26\n",
            "183  0.5  0.5\n",
            "184  1.0  0.0\n",
            "\n",
            "\n",
            "Outcome for columns with prefix 'node_caps_' after imputation for row index (233) that required rectification\n",
            "25    1.0\n",
            "26    0.0\n",
            "Name: 233, dtype: float64\n",
            "\n",
            "\n",
            "Outcome for columns with prefix 'node_caps_' after imputation for row index (263,264) that required rectification\n",
            "      25   26\n",
            "263  1.0  0.0\n",
            "264  1.0  0.0\n",
            "\n",
            "\n",
            "Outcome for columns with prefix 'breast_quad_' after imputation for row index (206) that required rectification\n"
          ],
          "name": "stdout"
        },
        {
          "output_type": "execute_result",
          "data": {
            "text/plain": [
              "27    0.0\n",
              "28    0.0\n",
              "29    0.5\n",
              "30    0.0\n",
              "31    0.0\n",
              "32    0.5\n",
              "Name: 206, dtype: float64"
            ]
          },
          "metadata": {
            "tags": []
          },
          "execution_count": 1470
        }
      ]
    },
    {
      "cell_type": "markdown",
      "metadata": {
        "id": "yMLRB1jpRgWh",
        "colab_type": "text"
      },
      "source": [
        "- **After imputation**, we observe that for columns related to **'node_caps_'**, 7 out of the 8 rows are imputed with 0 and 1 values as expected. For **row index (183)** the value **0.5 is assigned** to both columns. Since there is **no better way** for us to assign a value of 1 and 0 confidently, we **stick with this**. <br><br>\n",
        "- For the columns related to **'breast_quad_'**, on observing the outcome we find **breast_quad_left_low=0.5** and **breast_quad_right_up=0.5**. We reject this, since we already have the information that for this case, the value of **breast_right is 0** (column index 27), meaning it is **confirmed** to be the **left breast**. So we can put **breast_quad_left_low=1** and **breast_quad_right_up=0**."
      ]
    },
    {
      "cell_type": "code",
      "metadata": {
        "id": "RNGAwMeooeap",
        "colab_type": "code",
        "colab": {
          "base_uri": "https://localhost:8080/",
          "height": 187
        },
        "outputId": "62ad97d0-2e67-4106-bb45-9fcd6038be5d"
      },
      "source": [
        "data_for_impute.iloc[206,29] = 1 # Set breast_quad_left_low=1\n",
        "data_for_impute.iloc[206,32] = 0 # Set breast_quad_right_up=0\n",
        "\n",
        "# Check the outcome for columns with prefix 'breast_quad_' after replacing 0.5 by 1 and 0 for 'breast_quad_left_low' and 'breast_quad_right_up' respectively\n",
        "# Columns in focus are from 27 to 32\n",
        "print(\"\\n\\nOutcome for columns with prefix 'breast_quad_' after replacing 0.5 by 1 and 0 for 'breast_quad_left_low' and 'breast_quad_right_up' respectively\")\n",
        "data_for_impute.iloc[206,27:33]"
      ],
      "execution_count": null,
      "outputs": [
        {
          "output_type": "stream",
          "text": [
            "\n",
            "\n",
            "Outcome for columns with prefix 'breast_quad_' after replacing 0.5 by 1 and 0 for 'breast_quad_left_low' and 'breast_quad_right_up' respectively\n"
          ],
          "name": "stdout"
        },
        {
          "output_type": "execute_result",
          "data": {
            "text/plain": [
              "27    0.0\n",
              "28    0.0\n",
              "29    1.0\n",
              "30    0.0\n",
              "31    0.0\n",
              "32    0.0\n",
              "Name: 206, dtype: float64"
            ]
          },
          "metadata": {
            "tags": []
          },
          "execution_count": 1471
        }
      ]
    },
    {
      "cell_type": "markdown",
      "metadata": {
        "id": "jgNKM98BprW0",
        "colab_type": "text"
      },
      "source": [
        "After these validations, we are sure that **all missing values** have been **taken care of**.<br>\n",
        "Next we move into **Exploratory Data Analysis (EDA)**."
      ]
    },
    {
      "cell_type": "markdown",
      "metadata": {
        "id": "ur6AIh7tDLqq",
        "colab_type": "text"
      },
      "source": [
        "<a id=section4></a>\n",
        "## 4. Exploratory Data Analysis"
      ]
    },
    {
      "cell_type": "markdown",
      "metadata": {
        "id": "Ph21skcUEoRq",
        "colab_type": "text"
      },
      "source": [
        "__Using describe() method for analysis__"
      ]
    },
    {
      "cell_type": "code",
      "metadata": {
        "id": "Hb1n7EMvD6Sv",
        "colab_type": "code",
        "colab": {
          "base_uri": "https://localhost:8080/",
          "height": 317
        },
        "outputId": "c1bc35db-d1b5-4c71-9b22-7c6c42b40aad"
      },
      "source": [
        "data_for_impute.describe(include='all')"
      ],
      "execution_count": null,
      "outputs": [
        {
          "output_type": "execute_result",
          "data": {
            "text/html": [
              "<div>\n",
              "<style scoped>\n",
              "    .dataframe tbody tr th:only-of-type {\n",
              "        vertical-align: middle;\n",
              "    }\n",
              "\n",
              "    .dataframe tbody tr th {\n",
              "        vertical-align: top;\n",
              "    }\n",
              "\n",
              "    .dataframe thead th {\n",
              "        text-align: right;\n",
              "    }\n",
              "</style>\n",
              "<table border=\"1\" class=\"dataframe\">\n",
              "  <thead>\n",
              "    <tr style=\"text-align: right;\">\n",
              "      <th></th>\n",
              "      <th>0</th>\n",
              "      <th>1</th>\n",
              "      <th>2</th>\n",
              "      <th>3</th>\n",
              "      <th>4</th>\n",
              "      <th>5</th>\n",
              "      <th>6</th>\n",
              "      <th>7</th>\n",
              "      <th>8</th>\n",
              "      <th>9</th>\n",
              "      <th>10</th>\n",
              "      <th>11</th>\n",
              "      <th>12</th>\n",
              "      <th>13</th>\n",
              "      <th>14</th>\n",
              "      <th>15</th>\n",
              "      <th>16</th>\n",
              "      <th>17</th>\n",
              "      <th>18</th>\n",
              "      <th>19</th>\n",
              "      <th>20</th>\n",
              "      <th>21</th>\n",
              "      <th>22</th>\n",
              "      <th>23</th>\n",
              "      <th>24</th>\n",
              "      <th>25</th>\n",
              "      <th>26</th>\n",
              "      <th>27</th>\n",
              "      <th>28</th>\n",
              "      <th>29</th>\n",
              "      <th>30</th>\n",
              "      <th>31</th>\n",
              "      <th>32</th>\n",
              "      <th>33</th>\n",
              "    </tr>\n",
              "  </thead>\n",
              "  <tbody>\n",
              "    <tr>\n",
              "      <th>count</th>\n",
              "      <td>286.000000</td>\n",
              "      <td>286.000000</td>\n",
              "      <td>286.000000</td>\n",
              "      <td>286.000000</td>\n",
              "      <td>286.000000</td>\n",
              "      <td>286.000000</td>\n",
              "      <td>286.000000</td>\n",
              "      <td>286.000000</td>\n",
              "      <td>286.000000</td>\n",
              "      <td>286.000000</td>\n",
              "      <td>286.000000</td>\n",
              "      <td>286.000000</td>\n",
              "      <td>286.000000</td>\n",
              "      <td>286.000000</td>\n",
              "      <td>286.000000</td>\n",
              "      <td>286.000000</td>\n",
              "      <td>286.000000</td>\n",
              "      <td>286.000000</td>\n",
              "      <td>286.000000</td>\n",
              "      <td>286.000000</td>\n",
              "      <td>286.000000</td>\n",
              "      <td>286.000000</td>\n",
              "      <td>286.000000</td>\n",
              "      <td>286.000000</td>\n",
              "      <td>286.000000</td>\n",
              "      <td>286.000000</td>\n",
              "      <td>286.000000</td>\n",
              "      <td>286.000000</td>\n",
              "      <td>286.000000</td>\n",
              "      <td>286.000000</td>\n",
              "      <td>286.000000</td>\n",
              "      <td>286.000000</td>\n",
              "      <td>286.000000</td>\n",
              "      <td>286.000000</td>\n",
              "    </tr>\n",
              "    <tr>\n",
              "      <th>mean</th>\n",
              "      <td>2.048951</td>\n",
              "      <td>0.297203</td>\n",
              "      <td>0.125874</td>\n",
              "      <td>0.314685</td>\n",
              "      <td>0.335664</td>\n",
              "      <td>0.199301</td>\n",
              "      <td>0.020979</td>\n",
              "      <td>0.024476</td>\n",
              "      <td>0.524476</td>\n",
              "      <td>0.097902</td>\n",
              "      <td>0.104895</td>\n",
              "      <td>0.174825</td>\n",
              "      <td>0.188811</td>\n",
              "      <td>0.209790</td>\n",
              "      <td>0.066434</td>\n",
              "      <td>0.076923</td>\n",
              "      <td>0.010490</td>\n",
              "      <td>0.013986</td>\n",
              "      <td>0.027972</td>\n",
              "      <td>0.010490</td>\n",
              "      <td>0.020979</td>\n",
              "      <td>0.003497</td>\n",
              "      <td>0.125874</td>\n",
              "      <td>0.059441</td>\n",
              "      <td>0.034965</td>\n",
              "      <td>0.802448</td>\n",
              "      <td>0.197552</td>\n",
              "      <td>0.468531</td>\n",
              "      <td>0.073427</td>\n",
              "      <td>0.388112</td>\n",
              "      <td>0.339161</td>\n",
              "      <td>0.083916</td>\n",
              "      <td>0.115385</td>\n",
              "      <td>0.237762</td>\n",
              "    </tr>\n",
              "    <tr>\n",
              "      <th>std</th>\n",
              "      <td>0.738217</td>\n",
              "      <td>0.457828</td>\n",
              "      <td>0.332289</td>\n",
              "      <td>0.465204</td>\n",
              "      <td>0.473050</td>\n",
              "      <td>0.400175</td>\n",
              "      <td>0.143565</td>\n",
              "      <td>0.154791</td>\n",
              "      <td>0.500276</td>\n",
              "      <td>0.297703</td>\n",
              "      <td>0.306955</td>\n",
              "      <td>0.380483</td>\n",
              "      <td>0.392045</td>\n",
              "      <td>0.407872</td>\n",
              "      <td>0.249475</td>\n",
              "      <td>0.266936</td>\n",
              "      <td>0.102058</td>\n",
              "      <td>0.117638</td>\n",
              "      <td>0.165182</td>\n",
              "      <td>0.102058</td>\n",
              "      <td>0.143565</td>\n",
              "      <td>0.059131</td>\n",
              "      <td>0.332289</td>\n",
              "      <td>0.236862</td>\n",
              "      <td>0.184013</td>\n",
              "      <td>0.397749</td>\n",
              "      <td>0.397749</td>\n",
              "      <td>0.499883</td>\n",
              "      <td>0.261293</td>\n",
              "      <td>0.488174</td>\n",
              "      <td>0.474254</td>\n",
              "      <td>0.277748</td>\n",
              "      <td>0.320046</td>\n",
              "      <td>0.426459</td>\n",
              "    </tr>\n",
              "    <tr>\n",
              "      <th>min</th>\n",
              "      <td>1.000000</td>\n",
              "      <td>0.000000</td>\n",
              "      <td>0.000000</td>\n",
              "      <td>0.000000</td>\n",
              "      <td>0.000000</td>\n",
              "      <td>0.000000</td>\n",
              "      <td>0.000000</td>\n",
              "      <td>0.000000</td>\n",
              "      <td>0.000000</td>\n",
              "      <td>0.000000</td>\n",
              "      <td>0.000000</td>\n",
              "      <td>0.000000</td>\n",
              "      <td>0.000000</td>\n",
              "      <td>0.000000</td>\n",
              "      <td>0.000000</td>\n",
              "      <td>0.000000</td>\n",
              "      <td>0.000000</td>\n",
              "      <td>0.000000</td>\n",
              "      <td>0.000000</td>\n",
              "      <td>0.000000</td>\n",
              "      <td>0.000000</td>\n",
              "      <td>0.000000</td>\n",
              "      <td>0.000000</td>\n",
              "      <td>0.000000</td>\n",
              "      <td>0.000000</td>\n",
              "      <td>0.000000</td>\n",
              "      <td>0.000000</td>\n",
              "      <td>0.000000</td>\n",
              "      <td>0.000000</td>\n",
              "      <td>0.000000</td>\n",
              "      <td>0.000000</td>\n",
              "      <td>0.000000</td>\n",
              "      <td>0.000000</td>\n",
              "      <td>0.000000</td>\n",
              "    </tr>\n",
              "    <tr>\n",
              "      <th>25%</th>\n",
              "      <td>2.000000</td>\n",
              "      <td>0.000000</td>\n",
              "      <td>0.000000</td>\n",
              "      <td>0.000000</td>\n",
              "      <td>0.000000</td>\n",
              "      <td>0.000000</td>\n",
              "      <td>0.000000</td>\n",
              "      <td>0.000000</td>\n",
              "      <td>0.000000</td>\n",
              "      <td>0.000000</td>\n",
              "      <td>0.000000</td>\n",
              "      <td>0.000000</td>\n",
              "      <td>0.000000</td>\n",
              "      <td>0.000000</td>\n",
              "      <td>0.000000</td>\n",
              "      <td>0.000000</td>\n",
              "      <td>0.000000</td>\n",
              "      <td>0.000000</td>\n",
              "      <td>0.000000</td>\n",
              "      <td>0.000000</td>\n",
              "      <td>0.000000</td>\n",
              "      <td>0.000000</td>\n",
              "      <td>0.000000</td>\n",
              "      <td>0.000000</td>\n",
              "      <td>0.000000</td>\n",
              "      <td>1.000000</td>\n",
              "      <td>0.000000</td>\n",
              "      <td>0.000000</td>\n",
              "      <td>0.000000</td>\n",
              "      <td>0.000000</td>\n",
              "      <td>0.000000</td>\n",
              "      <td>0.000000</td>\n",
              "      <td>0.000000</td>\n",
              "      <td>0.000000</td>\n",
              "    </tr>\n",
              "    <tr>\n",
              "      <th>50%</th>\n",
              "      <td>2.000000</td>\n",
              "      <td>0.000000</td>\n",
              "      <td>0.000000</td>\n",
              "      <td>0.000000</td>\n",
              "      <td>0.000000</td>\n",
              "      <td>0.000000</td>\n",
              "      <td>0.000000</td>\n",
              "      <td>0.000000</td>\n",
              "      <td>1.000000</td>\n",
              "      <td>0.000000</td>\n",
              "      <td>0.000000</td>\n",
              "      <td>0.000000</td>\n",
              "      <td>0.000000</td>\n",
              "      <td>0.000000</td>\n",
              "      <td>0.000000</td>\n",
              "      <td>0.000000</td>\n",
              "      <td>0.000000</td>\n",
              "      <td>0.000000</td>\n",
              "      <td>0.000000</td>\n",
              "      <td>0.000000</td>\n",
              "      <td>0.000000</td>\n",
              "      <td>0.000000</td>\n",
              "      <td>0.000000</td>\n",
              "      <td>0.000000</td>\n",
              "      <td>0.000000</td>\n",
              "      <td>1.000000</td>\n",
              "      <td>0.000000</td>\n",
              "      <td>0.000000</td>\n",
              "      <td>0.000000</td>\n",
              "      <td>0.000000</td>\n",
              "      <td>0.000000</td>\n",
              "      <td>0.000000</td>\n",
              "      <td>0.000000</td>\n",
              "      <td>0.000000</td>\n",
              "    </tr>\n",
              "    <tr>\n",
              "      <th>75%</th>\n",
              "      <td>3.000000</td>\n",
              "      <td>1.000000</td>\n",
              "      <td>0.000000</td>\n",
              "      <td>1.000000</td>\n",
              "      <td>1.000000</td>\n",
              "      <td>0.000000</td>\n",
              "      <td>0.000000</td>\n",
              "      <td>0.000000</td>\n",
              "      <td>1.000000</td>\n",
              "      <td>0.000000</td>\n",
              "      <td>0.000000</td>\n",
              "      <td>0.000000</td>\n",
              "      <td>0.000000</td>\n",
              "      <td>0.000000</td>\n",
              "      <td>0.000000</td>\n",
              "      <td>0.000000</td>\n",
              "      <td>0.000000</td>\n",
              "      <td>0.000000</td>\n",
              "      <td>0.000000</td>\n",
              "      <td>0.000000</td>\n",
              "      <td>0.000000</td>\n",
              "      <td>0.000000</td>\n",
              "      <td>0.000000</td>\n",
              "      <td>0.000000</td>\n",
              "      <td>0.000000</td>\n",
              "      <td>1.000000</td>\n",
              "      <td>0.000000</td>\n",
              "      <td>1.000000</td>\n",
              "      <td>0.000000</td>\n",
              "      <td>1.000000</td>\n",
              "      <td>1.000000</td>\n",
              "      <td>0.000000</td>\n",
              "      <td>0.000000</td>\n",
              "      <td>0.000000</td>\n",
              "    </tr>\n",
              "    <tr>\n",
              "      <th>max</th>\n",
              "      <td>3.000000</td>\n",
              "      <td>1.000000</td>\n",
              "      <td>1.000000</td>\n",
              "      <td>1.000000</td>\n",
              "      <td>1.000000</td>\n",
              "      <td>1.000000</td>\n",
              "      <td>1.000000</td>\n",
              "      <td>1.000000</td>\n",
              "      <td>1.000000</td>\n",
              "      <td>1.000000</td>\n",
              "      <td>1.000000</td>\n",
              "      <td>1.000000</td>\n",
              "      <td>1.000000</td>\n",
              "      <td>1.000000</td>\n",
              "      <td>1.000000</td>\n",
              "      <td>1.000000</td>\n",
              "      <td>1.000000</td>\n",
              "      <td>1.000000</td>\n",
              "      <td>1.000000</td>\n",
              "      <td>1.000000</td>\n",
              "      <td>1.000000</td>\n",
              "      <td>1.000000</td>\n",
              "      <td>1.000000</td>\n",
              "      <td>1.000000</td>\n",
              "      <td>1.000000</td>\n",
              "      <td>1.000000</td>\n",
              "      <td>1.000000</td>\n",
              "      <td>1.000000</td>\n",
              "      <td>1.000000</td>\n",
              "      <td>1.000000</td>\n",
              "      <td>1.000000</td>\n",
              "      <td>1.000000</td>\n",
              "      <td>1.000000</td>\n",
              "      <td>1.000000</td>\n",
              "    </tr>\n",
              "  </tbody>\n",
              "</table>\n",
              "</div>"
            ],
            "text/plain": [
              "               0           1           2   ...          31          32          33\n",
              "count  286.000000  286.000000  286.000000  ...  286.000000  286.000000  286.000000\n",
              "mean     2.048951    0.297203    0.125874  ...    0.083916    0.115385    0.237762\n",
              "std      0.738217    0.457828    0.332289  ...    0.277748    0.320046    0.426459\n",
              "min      1.000000    0.000000    0.000000  ...    0.000000    0.000000    0.000000\n",
              "25%      2.000000    0.000000    0.000000  ...    0.000000    0.000000    0.000000\n",
              "50%      2.000000    0.000000    0.000000  ...    0.000000    0.000000    0.000000\n",
              "75%      3.000000    1.000000    0.000000  ...    0.000000    0.000000    0.000000\n",
              "max      3.000000    1.000000    1.000000  ...    1.000000    1.000000    1.000000\n",
              "\n",
              "[8 rows x 34 columns]"
            ]
          },
          "metadata": {
            "tags": []
          },
          "execution_count": 1472
        }
      ]
    },
    {
      "cell_type": "markdown",
      "metadata": {
        "id": "7CTt1V5FFmrx",
        "colab_type": "text"
      },
      "source": [
        "Because of all the **treatment** that has been done **during preprocessing**, the describe() method is of little significance. There is **no notable observation**."
      ]
    },
    {
      "cell_type": "markdown",
      "metadata": {
        "id": "TUg-OeeIHyzE",
        "colab_type": "text"
      },
      "source": [
        "<a id=section401></a>\n",
        "### 4.1 Correlation between class, age and menopause attributes"
      ]
    },
    {
      "cell_type": "code",
      "metadata": {
        "id": "jNF2I6WALoxC",
        "colab_type": "code",
        "colab": {
          "base_uri": "https://localhost:8080/"
        },
        "outputId": "6c7228e0-eab1-4ee8-dcba-509e308453a7"
      },
      "source": [
        "data_for_impute.iloc[:,1:9] # Selects class, age segment columns and menopause related columns"
      ],
      "execution_count": null,
      "outputs": [
        {
          "output_type": "execute_result",
          "data": {
            "text/html": [
              "<div>\n",
              "<style scoped>\n",
              "    .dataframe tbody tr th:only-of-type {\n",
              "        vertical-align: middle;\n",
              "    }\n",
              "\n",
              "    .dataframe tbody tr th {\n",
              "        vertical-align: top;\n",
              "    }\n",
              "\n",
              "    .dataframe thead th {\n",
              "        text-align: right;\n",
              "    }\n",
              "</style>\n",
              "<table border=\"1\" class=\"dataframe\">\n",
              "  <thead>\n",
              "    <tr style=\"text-align: right;\">\n",
              "      <th></th>\n",
              "      <th>1</th>\n",
              "      <th>2</th>\n",
              "      <th>3</th>\n",
              "      <th>4</th>\n",
              "      <th>5</th>\n",
              "      <th>6</th>\n",
              "      <th>7</th>\n",
              "      <th>8</th>\n",
              "    </tr>\n",
              "  </thead>\n",
              "  <tbody>\n",
              "    <tr>\n",
              "      <th>0</th>\n",
              "      <td>0.0</td>\n",
              "      <td>1.0</td>\n",
              "      <td>0.0</td>\n",
              "      <td>0.0</td>\n",
              "      <td>0.0</td>\n",
              "      <td>0.0</td>\n",
              "      <td>0.0</td>\n",
              "      <td>1.0</td>\n",
              "    </tr>\n",
              "    <tr>\n",
              "      <th>1</th>\n",
              "      <td>0.0</td>\n",
              "      <td>0.0</td>\n",
              "      <td>1.0</td>\n",
              "      <td>0.0</td>\n",
              "      <td>0.0</td>\n",
              "      <td>0.0</td>\n",
              "      <td>0.0</td>\n",
              "      <td>1.0</td>\n",
              "    </tr>\n",
              "    <tr>\n",
              "      <th>2</th>\n",
              "      <td>0.0</td>\n",
              "      <td>0.0</td>\n",
              "      <td>1.0</td>\n",
              "      <td>0.0</td>\n",
              "      <td>0.0</td>\n",
              "      <td>0.0</td>\n",
              "      <td>0.0</td>\n",
              "      <td>1.0</td>\n",
              "    </tr>\n",
              "    <tr>\n",
              "      <th>3</th>\n",
              "      <td>0.0</td>\n",
              "      <td>0.0</td>\n",
              "      <td>0.0</td>\n",
              "      <td>0.0</td>\n",
              "      <td>1.0</td>\n",
              "      <td>0.0</td>\n",
              "      <td>0.0</td>\n",
              "      <td>0.0</td>\n",
              "    </tr>\n",
              "    <tr>\n",
              "      <th>4</th>\n",
              "      <td>0.0</td>\n",
              "      <td>0.0</td>\n",
              "      <td>1.0</td>\n",
              "      <td>0.0</td>\n",
              "      <td>0.0</td>\n",
              "      <td>0.0</td>\n",
              "      <td>0.0</td>\n",
              "      <td>1.0</td>\n",
              "    </tr>\n",
              "    <tr>\n",
              "      <th>...</th>\n",
              "      <td>...</td>\n",
              "      <td>...</td>\n",
              "      <td>...</td>\n",
              "      <td>...</td>\n",
              "      <td>...</td>\n",
              "      <td>...</td>\n",
              "      <td>...</td>\n",
              "      <td>...</td>\n",
              "    </tr>\n",
              "    <tr>\n",
              "      <th>281</th>\n",
              "      <td>1.0</td>\n",
              "      <td>1.0</td>\n",
              "      <td>0.0</td>\n",
              "      <td>0.0</td>\n",
              "      <td>0.0</td>\n",
              "      <td>0.0</td>\n",
              "      <td>0.0</td>\n",
              "      <td>1.0</td>\n",
              "    </tr>\n",
              "    <tr>\n",
              "      <th>282</th>\n",
              "      <td>1.0</td>\n",
              "      <td>1.0</td>\n",
              "      <td>0.0</td>\n",
              "      <td>0.0</td>\n",
              "      <td>0.0</td>\n",
              "      <td>0.0</td>\n",
              "      <td>0.0</td>\n",
              "      <td>1.0</td>\n",
              "    </tr>\n",
              "    <tr>\n",
              "      <th>283</th>\n",
              "      <td>1.0</td>\n",
              "      <td>0.0</td>\n",
              "      <td>0.0</td>\n",
              "      <td>0.0</td>\n",
              "      <td>1.0</td>\n",
              "      <td>0.0</td>\n",
              "      <td>0.0</td>\n",
              "      <td>0.0</td>\n",
              "    </tr>\n",
              "    <tr>\n",
              "      <th>284</th>\n",
              "      <td>1.0</td>\n",
              "      <td>0.0</td>\n",
              "      <td>1.0</td>\n",
              "      <td>0.0</td>\n",
              "      <td>0.0</td>\n",
              "      <td>0.0</td>\n",
              "      <td>0.0</td>\n",
              "      <td>0.0</td>\n",
              "    </tr>\n",
              "    <tr>\n",
              "      <th>285</th>\n",
              "      <td>1.0</td>\n",
              "      <td>0.0</td>\n",
              "      <td>0.0</td>\n",
              "      <td>1.0</td>\n",
              "      <td>0.0</td>\n",
              "      <td>0.0</td>\n",
              "      <td>0.0</td>\n",
              "      <td>0.0</td>\n",
              "    </tr>\n",
              "  </tbody>\n",
              "</table>\n",
              "<p>286 rows × 8 columns</p>\n",
              "</div>"
            ],
            "text/plain": [
              "       1    2    3    4    5    6    7    8\n",
              "0    0.0  1.0  0.0  0.0  0.0  0.0  0.0  1.0\n",
              "1    0.0  0.0  1.0  0.0  0.0  0.0  0.0  1.0\n",
              "2    0.0  0.0  1.0  0.0  0.0  0.0  0.0  1.0\n",
              "3    0.0  0.0  0.0  0.0  1.0  0.0  0.0  0.0\n",
              "4    0.0  0.0  1.0  0.0  0.0  0.0  0.0  1.0\n",
              "..   ...  ...  ...  ...  ...  ...  ...  ...\n",
              "281  1.0  1.0  0.0  0.0  0.0  0.0  0.0  1.0\n",
              "282  1.0  1.0  0.0  0.0  0.0  0.0  0.0  1.0\n",
              "283  1.0  0.0  0.0  0.0  1.0  0.0  0.0  0.0\n",
              "284  1.0  0.0  1.0  0.0  0.0  0.0  0.0  0.0\n",
              "285  1.0  0.0  0.0  1.0  0.0  0.0  0.0  0.0\n",
              "\n",
              "[286 rows x 8 columns]"
            ]
          },
          "metadata": {
            "tags": []
          },
          "execution_count": 1473
        }
      ]
    },
    {
      "cell_type": "code",
      "metadata": {
        "id": "8Z-dcNYpJtcl",
        "colab_type": "code",
        "colab": {
          "base_uri": "https://localhost:8080/"
        },
        "outputId": "6455a409-caec-459d-9a0a-ee24cc13f1dc"
      },
      "source": [
        "corr = data_for_impute.iloc[:,1:9].corr() # Dataframe slice is fed into corr() method\n",
        "plt.figure(figsize=(10,10))\n",
        "sns.heatmap(corr, square = True, annot = True) # Generates the heatmap corresponding to the correlation values from corr()\n",
        "plt.title('Correlation between features')"
      ],
      "execution_count": null,
      "outputs": [
        {
          "output_type": "execute_result",
          "data": {
            "text/plain": [
              "Text(0.5, 1.0, 'Correlation between features')"
            ]
          },
          "metadata": {
            "tags": []
          },
          "execution_count": 1474
        },
        {
          "output_type": "display_data",
          "data": {
            "image/png": "[encoded data removed]",
            "text/plain": [
              "<Figure size 720x720 with 2 Axes>"
            ]
          },
          "metadata": {
            "tags": []
          }
        }
      ]
    },
    {
      "cell_type": "markdown",
      "metadata": {
        "id": "G19CMIGRM7FS",
        "colab_type": "text"
      },
      "source": [
        "- **Class** is **not significantly correlated** with either **age** or **menopause**.\n",
        "- There is **moderate positive** correlation between **age** ranges of **30-49** and the patient being in a **premenopause phase**."
      ]
    },
    {
      "cell_type": "markdown",
      "metadata": {
        "id": "cPeOi3GCn6Tn",
        "colab_type": "text"
      },
      "source": [
        "<a id=section402></a>\n",
        "### 4.2 Correlation between class and tumor size attributes"
      ]
    },
    {
      "cell_type": "code",
      "metadata": {
        "id": "XaiWIk1vqUU5",
        "colab_type": "code",
        "colab": {
          "base_uri": "https://localhost:8080/",
          "height": 255
        },
        "outputId": "2a179fc6-52c9-4c0e-bc10-ce1550cf7126"
      },
      "source": [
        "data_for_impute_class = data_for_impute.iloc[:,1] # Selects class columns\n",
        "data_for_impute_tumor_size = data_for_impute.iloc[:,9:19] # Selects tumor size segment columns\n",
        "data_for_impute_class_tumor_size = pd.concat([data_for_impute_class, data_for_impute_tumor_size], axis=1)\n",
        "print(data_for_impute_class_tumor_size)"
      ],
      "execution_count": null,
      "outputs": [
        {
          "output_type": "stream",
          "text": [
            "      1    9    10   11   12   13   14   15   16   17   18\n",
            "0    0.0  0.0  0.0  0.0  0.0  1.0  0.0  0.0  0.0  0.0  0.0\n",
            "1    0.0  0.0  0.0  1.0  0.0  0.0  0.0  0.0  0.0  0.0  0.0\n",
            "2    0.0  0.0  0.0  1.0  0.0  0.0  0.0  0.0  0.0  0.0  0.0\n",
            "3    0.0  0.0  1.0  0.0  0.0  0.0  0.0  0.0  0.0  0.0  0.0\n",
            "4    0.0  0.0  0.0  0.0  0.0  0.0  0.0  0.0  0.0  0.0  0.0\n",
            "..   ...  ...  ...  ...  ...  ...  ...  ...  ...  ...  ...\n",
            "281  1.0  0.0  0.0  0.0  0.0  1.0  0.0  0.0  0.0  0.0  0.0\n",
            "282  1.0  0.0  0.0  1.0  0.0  0.0  0.0  0.0  0.0  0.0  0.0\n",
            "283  1.0  0.0  0.0  1.0  0.0  0.0  0.0  0.0  0.0  0.0  0.0\n",
            "284  1.0  0.0  0.0  0.0  0.0  1.0  0.0  0.0  0.0  0.0  0.0\n",
            "285  1.0  0.0  0.0  0.0  0.0  1.0  0.0  0.0  0.0  0.0  0.0\n",
            "\n",
            "[286 rows x 11 columns]\n"
          ],
          "name": "stdout"
        }
      ]
    },
    {
      "cell_type": "code",
      "metadata": {
        "id": "7C3Fvc5VqjkD",
        "colab_type": "code",
        "colab": {
          "base_uri": "https://localhost:8080/",
          "height": 595
        },
        "outputId": "958ad37e-e30a-4642-fcd4-79806dd1e9eb"
      },
      "source": [
        "corr = data_for_impute_class_tumor_size.corr() # Dataframe slice is fed into corr() method\n",
        "plt.figure(figsize=(10,10))\n",
        "sns.heatmap(corr, square = True, annot = True, cmap='BuGn') # Generates the heatmap corresponding to the correlation values from corr()\n",
        "plt.title('Correlation between features')"
      ],
      "execution_count": null,
      "outputs": [
        {
          "output_type": "execute_result",
          "data": {
            "text/plain": [
              "Text(0.5, 1.0, 'Correlation between features')"
            ]
          },
          "metadata": {
            "tags": []
          },
          "execution_count": 1476
        },
        {
          "output_type": "display_data",
          "data": {
            "image/png": "[encoded data removed]",
            "text/plain": [
              "<Figure size 720x720 with 2 Axes>"
            ]
          },
          "metadata": {
            "tags": []
          }
        }
      ]
    },
    {
      "cell_type": "markdown",
      "metadata": {
        "id": "WW7sFrPYtFEE",
        "colab_type": "text"
      },
      "source": [
        "- Only for **tumor size** in range **10-14** there is **low negative correlation** with **class**."
      ]
    },
    {
      "cell_type": "markdown",
      "metadata": {
        "id": "hdq0AXj_o9H6",
        "colab_type": "text"
      },
      "source": [
        "<a id=section403></a>\n",
        "### 4.3 Correlation between class and inv nodes attributes"
      ]
    },
    {
      "cell_type": "code",
      "metadata": {
        "id": "R7j_9PxsusXD",
        "colab_type": "code",
        "colab": {
          "base_uri": "https://localhost:8080/"
        },
        "outputId": "9f6b0e30-aff3-4839-8249-bea3c411d413"
      },
      "source": [
        "data_for_impute_class = data_for_impute.iloc[:,1] # Selects class columns\n",
        "data_for_impute_inv_nodes = data_for_impute.iloc[:,19:25] # Selects inv nodes segment columns\n",
        "data_for_impute_class_inv_nodes = pd.concat([data_for_impute_class, data_for_impute_inv_nodes], axis=1)\n",
        "print(data_for_impute_class_inv_nodes)"
      ],
      "execution_count": null,
      "outputs": [
        {
          "output_type": "stream",
          "text": [
            "      1    19   20   21   22   23   24\n",
            "0    0.0  0.0  0.0  0.0  0.0  0.0  0.0\n",
            "1    0.0  0.0  0.0  0.0  0.0  0.0  0.0\n",
            "2    0.0  0.0  0.0  0.0  0.0  0.0  0.0\n",
            "3    0.0  0.0  0.0  0.0  0.0  0.0  0.0\n",
            "4    0.0  0.0  0.0  0.0  0.0  0.0  0.0\n",
            "..   ...  ...  ...  ...  ...  ...  ...\n",
            "281  1.0  0.0  0.0  0.0  0.0  0.0  0.0\n",
            "282  1.0  0.0  0.0  0.0  0.0  0.0  0.0\n",
            "283  1.0  0.0  0.0  0.0  0.0  0.0  0.0\n",
            "284  1.0  0.0  0.0  0.0  1.0  0.0  0.0\n",
            "285  1.0  0.0  0.0  0.0  1.0  0.0  0.0\n",
            "\n",
            "[286 rows x 7 columns]\n"
          ],
          "name": "stdout"
        }
      ]
    },
    {
      "cell_type": "code",
      "metadata": {
        "id": "FrH5_pakwqm3",
        "colab_type": "code",
        "colab": {
          "base_uri": "https://localhost:8080/"
        },
        "outputId": "a60b9a82-7a5d-4c82-dbc2-6ccd99b50f77"
      },
      "source": [
        "corr = data_for_impute_class_inv_nodes.corr() # Dataframe slice is fed into corr() method\n",
        "plt.figure(figsize=(10,10))\n",
        "sns.heatmap(corr, square = True, annot = True, cmap='Blues') # Generates the heatmap corresponding to the correlation values from corr()\n",
        "plt.title('Correlation between features')"
      ],
      "execution_count": null,
      "outputs": [
        {
          "output_type": "execute_result",
          "data": {
            "text/plain": [
              "Text(0.5, 1.0, 'Correlation between features')"
            ]
          },
          "metadata": {
            "tags": []
          },
          "execution_count": 1478
        },
        {
          "output_type": "display_data",
          "data": {
            "image/png": "[encoded data removed]",
            "text/plain": [
              "<Figure size 720x720 with 2 Axes>"
            ]
          },
          "metadata": {
            "tags": []
          }
        }
      ]
    },
    {
      "cell_type": "markdown",
      "metadata": {
        "id": "QT0KjOVdyMyk",
        "colab_type": "text"
      },
      "source": [
        "- Only for **inv nodes** in ranges **3-11** there is **very low positive correlation** with **class**."
      ]
    },
    {
      "cell_type": "markdown",
      "metadata": {
        "id": "EBTkBcnZpC6e",
        "colab_type": "text"
      },
      "source": [
        "<a id=section404></a>\n",
        "### 4.4 Correlation between class, node caps, breast and degree of malignancy attributes"
      ]
    },
    {
      "cell_type": "code",
      "metadata": {
        "id": "cpXo6xunykx2",
        "colab_type": "code",
        "colab": {
          "base_uri": "https://localhost:8080/"
        },
        "outputId": "ad295507-cbdd-4ae5-fdf2-a84fc7472b2c"
      },
      "source": [
        "data_for_impute_deg_class = data_for_impute.iloc[:,0:2] # Selects degree of malignency and class columns\n",
        "data_for_impute_node_caps_breast = data_for_impute.iloc[:,25:28] # Selects node caps and breast columns\n",
        "data_for_impute_deg_class_node_caps_breast = pd.concat([data_for_impute_deg_class, data_for_impute_node_caps_breast], axis=1)\n",
        "print(data_for_impute_deg_class_node_caps_breast)"
      ],
      "execution_count": null,
      "outputs": [
        {
          "output_type": "stream",
          "text": [
            "      0    1    25   26   27\n",
            "0    3.0  0.0  1.0  0.0  0.0\n",
            "1    2.0  0.0  1.0  0.0  1.0\n",
            "2    2.0  0.0  1.0  0.0  0.0\n",
            "3    2.0  0.0  1.0  0.0  1.0\n",
            "4    2.0  0.0  1.0  0.0  1.0\n",
            "..   ...  ...  ...  ...  ...\n",
            "281  2.0  1.0  1.0  0.0  0.0\n",
            "282  3.0  1.0  1.0  0.0  0.0\n",
            "283  1.0  1.0  1.0  0.0  1.0\n",
            "284  3.0  1.0  1.0  0.0  0.0\n",
            "285  3.0  1.0  1.0  0.0  0.0\n",
            "\n",
            "[286 rows x 5 columns]\n"
          ],
          "name": "stdout"
        }
      ]
    },
    {
      "cell_type": "code",
      "metadata": {
        "id": "rcDPpm4MzeY9",
        "colab_type": "code",
        "colab": {
          "base_uri": "https://localhost:8080/"
        },
        "outputId": "a11db050-72e3-4ef1-8ff4-e1c59020627d"
      },
      "source": [
        "corr = data_for_impute_deg_class_node_caps_breast.corr() # Dataframe slice is fed into corr() method\n",
        "plt.figure(figsize=(10,10))\n",
        "sns.heatmap(corr, square = True, annot = True, cmap='BuPu') # Generates the heatmap corresponding to the correlation values from corr()\n",
        "plt.title('Correlation between features')"
      ],
      "execution_count": null,
      "outputs": [
        {
          "output_type": "execute_result",
          "data": {
            "text/plain": [
              "Text(0.5, 1.0, 'Correlation between features')"
            ]
          },
          "metadata": {
            "tags": []
          },
          "execution_count": 1480
        },
        {
          "output_type": "display_data",
          "data": {
            "image/png": "[encoded data removed]",
            "text/plain": [
              "<Figure size 720x720 with 2 Axes>"
            ]
          },
          "metadata": {
            "tags": []
          }
        }
      ]
    },
    {
      "cell_type": "markdown",
      "metadata": {
        "id": "qDa0qsnB0TEd",
        "colab_type": "text"
      },
      "source": [
        "- **Class** has moderate **positive correlation** with **degree of malignancy**.\n",
        "- **Class** has low **positive correlation** with the presence of **node caps**.\n",
        "- **Degree of malignancy** has moderate **positive correlation** with the presence of **node caps**.\n",
        "\n"
      ]
    },
    {
      "cell_type": "markdown",
      "metadata": {
        "id": "9gJLR2T6pYpO",
        "colab_type": "text"
      },
      "source": [
        "<a id=section405></a>\n",
        "### 4.5 Correlation between class, breast quad and irradiate attributes"
      ]
    },
    {
      "cell_type": "code",
      "metadata": {
        "id": "Jhbk763d2A8Q",
        "colab_type": "code",
        "colab": {
          "base_uri": "https://localhost:8080/"
        },
        "outputId": "68b4eb80-5e53-438b-a845-707c40b60bd7"
      },
      "source": [
        "data_for_impute_class = data_for_impute.iloc[:,1] # Selects class column\n",
        "data_for_impute_breast_quad_irradiat = data_for_impute.iloc[:,28:] # Selects breast quad and irradiate columns\n",
        "data_for_impute_class_breast_quad_irradiat = pd.concat([data_for_impute_class, data_for_impute_breast_quad_irradiat], axis=1)\n",
        "print(data_for_impute_class_breast_quad_irradiat)"
      ],
      "execution_count": null,
      "outputs": [
        {
          "output_type": "stream",
          "text": [
            "      1    28   29   30   31   32   33\n",
            "0    0.0  0.0  1.0  0.0  0.0  0.0  0.0\n",
            "1    0.0  0.0  0.0  0.0  0.0  1.0  0.0\n",
            "2    0.0  0.0  1.0  0.0  0.0  0.0  0.0\n",
            "3    0.0  0.0  0.0  1.0  0.0  0.0  0.0\n",
            "4    0.0  0.0  0.0  0.0  1.0  0.0  0.0\n",
            "..   ...  ...  ...  ...  ...  ...  ...\n",
            "281  1.0  0.0  0.0  1.0  0.0  0.0  0.0\n",
            "282  1.0  0.0  0.0  1.0  0.0  0.0  1.0\n",
            "283  1.0  0.0  0.0  1.0  0.0  0.0  0.0\n",
            "284  1.0  0.0  1.0  0.0  0.0  0.0  0.0\n",
            "285  1.0  0.0  1.0  0.0  0.0  0.0  0.0\n",
            "\n",
            "[286 rows x 7 columns]\n"
          ],
          "name": "stdout"
        }
      ]
    },
    {
      "cell_type": "code",
      "metadata": {
        "id": "WwI-rqhX33DN",
        "colab_type": "code",
        "colab": {
          "base_uri": "https://localhost:8080/"
        },
        "outputId": "1988ee29-0fa8-428c-c77a-a28901c1641c"
      },
      "source": [
        "corr = data_for_impute_class_breast_quad_irradiat.corr() # Dataframe slice is fed into corr() method\n",
        "plt.figure(figsize=(10,10))\n",
        "sns.heatmap(corr, square = True, annot = True, cmap='OrRd') # Generates the heatmap corresponding to the correlation values from corr()\n",
        "plt.title('Correlation between features')"
      ],
      "execution_count": null,
      "outputs": [
        {
          "output_type": "execute_result",
          "data": {
            "text/plain": [
              "Text(0.5, 1.0, 'Correlation between features')"
            ]
          },
          "metadata": {
            "tags": []
          },
          "execution_count": 1482
        },
        {
          "output_type": "display_data",
          "data": {
            "image/png": "[encoded data removed]",
            "text/plain": [
              "<Figure size 720x720 with 2 Axes>"
            ]
          },
          "metadata": {
            "tags": []
          }
        }
      ]
    },
    {
      "cell_type": "markdown",
      "metadata": {
        "id": "8_ZooF3x5Zmg",
        "colab_type": "text"
      },
      "source": [
        "- **Correlation** between **class** and **breast quads** is **insignificant**.\n",
        "- **Irradiat** has **low positive** correlation with **class**."
      ]
    },
    {
      "cell_type": "markdown",
      "metadata": {
        "id": "bMLR3tzA6GwD",
        "colab_type": "text"
      },
      "source": [
        "<a id=section406></a>\n",
        "### 4.6 Summary of EDA"
      ]
    },
    {
      "cell_type": "markdown",
      "metadata": {
        "id": "Blz6ad0T6NrL",
        "colab_type": "text"
      },
      "source": [
        "1.   **Class** is **not significantly correlated** with **age**, **menopause** and **breast quads**.\n",
        "2.   **Class** has low **positive correlation** with the presence of **node caps** and **irradiat** column.\n",
        "3.   For **inv nodes**, the range **3-11** has **very low positive correlation** with **class**.\n",
        "4.   **Class** has moderate **positive correlation** with **degree of malignancy**.\n",
        "5.   For **tumor size** in range **10-14** there is **low negative correlation** with **class**.\n",
        "6.   If the patient has **age** between **30-49** years then there is a **higher chance** of her being in a **premenopause phase**.\n",
        "7.   **Greater** the **degree of malignancy**, higher are the chances of **node caps** being **present**."
      ]
    },
    {
      "cell_type": "markdown",
      "metadata": {
        "id": "48sabZ1Kk7b0",
        "colab_type": "text"
      },
      "source": [
        "<a id=section5></a>\n",
        "## 5. Model Building"
      ]
    },
    {
      "cell_type": "markdown",
      "metadata": {
        "id": "mlws3jidEp9X",
        "colab_type": "text"
      },
      "source": [
        "<a id=section501></a>\n",
        "### 5.1 Split data for training and testing"
      ]
    },
    {
      "cell_type": "code",
      "metadata": {
        "id": "wrsW2OsNYQtm",
        "colab_type": "code",
        "colab": {
          "base_uri": "https://localhost:8080/",
          "height": 51
        },
        "outputId": "8935dc0b-d90b-462d-c5ed-2db013897e5d"
      },
      "source": [
        "y = data_for_impute.iloc[:,1] # Creating the dataframe for the Target Variable (column class) which is the column index=1 of data_for_impute\n",
        "print(y.shape)\n",
        "data_for_impute.drop(axis=1, columns=1, inplace=True) # Dropping the column class, so that data_for_impute is effectively the dataframe of X variables\n",
        "X = data_for_impute.iloc[:,:]\n",
        "#data_for_impute_0 = data_for_impute.iloc[:,0]\n",
        "#data_for_impute_2_33 = data_for_impute.iloc[:,2:]\n",
        "#X = pd.concat([data_for_impute_0, data_for_impute_2_33], axis=1)\n",
        "print(X.shape)\n"
      ],
      "execution_count": null,
      "outputs": [
        {
          "output_type": "stream",
          "text": [
            "(286,)\n",
            "(286, 33)\n"
          ],
          "name": "stdout"
        }
      ]
    },
    {
      "cell_type": "code",
      "metadata": {
        "id": "8fPNxcq7YLeG",
        "colab_type": "code",
        "colab": {}
      },
      "source": [
        "# Split the complete data in to train and test using train_test_split() method\n",
        "# test_size is taken as 20% of the complete data and random_state as 1\n",
        "from sklearn.model_selection import train_test_split\n",
        "X_train, X_test, y_train, y_test = train_test_split(X, y, test_size=0.20, random_state=1)"
      ],
      "execution_count": null,
      "outputs": []
    },
    {
      "cell_type": "code",
      "metadata": {
        "id": "8q8l8gUCYUQj",
        "colab_type": "code",
        "colab": {
          "base_uri": "https://localhost:8080/",
          "height": 136
        },
        "outputId": "3b278af5-3bd9-44c7-c36d-117d1fb419c5"
      },
      "source": [
        "# Check the shape (dimensions) of X_train, X_test, y_train, y_test\n",
        "print('Train cases as below')\n",
        "print('X_train shape: ',X_train.shape)\n",
        "print('y_train shape: ',y_train.shape)\n",
        "print('\\nTest cases as below')\n",
        "print('X_test shape: ',X_test.shape)\n",
        "print('y_test shape: ',y_test.shape)"
      ],
      "execution_count": null,
      "outputs": [
        {
          "output_type": "stream",
          "text": [
            "Train cases as below\n",
            "X_train shape:  (228, 33)\n",
            "y_train shape:  (228,)\n",
            "\n",
            "Test cases as below\n",
            "X_test shape:  (58, 33)\n",
            "y_test shape:  (58,)\n"
          ],
          "name": "stdout"
        }
      ]
    },
    {
      "cell_type": "markdown",
      "metadata": {
        "id": "xPfLmIR0RZsS",
        "colab_type": "text"
      },
      "source": [
        "The train test split has worked as expected and we can proceed with building of models."
      ]
    },
    {
      "cell_type": "markdown",
      "metadata": {
        "id": "fW98q2zyFEUV",
        "colab_type": "text"
      },
      "source": [
        "<a id=section502></a>\n",
        "### 5.2 Build a Logistic Regression model"
      ]
    },
    {
      "cell_type": "code",
      "metadata": {
        "id": "uIHM9DdRYhxA",
        "colab_type": "code",
        "colab": {
          "base_uri": "https://localhost:8080/",
          "height": 102
        },
        "outputId": "d6e1d0fd-5b1f-4351-e6b1-9aa5f716e7a3"
      },
      "source": [
        "from sklearn.linear_model import LogisticRegression\n",
        "logreg = LogisticRegression() # Instantiate a model from LogisticRegression\n",
        "logreg.fit(X_train,y_train) # Train (i.e. fit) the model with the training data"
      ],
      "execution_count": null,
      "outputs": [
        {
          "output_type": "execute_result",
          "data": {
            "text/plain": [
              "LogisticRegression(C=1.0, class_weight=None, dual=False, fit_intercept=True,\n",
              "                   intercept_scaling=1, l1_ratio=None, max_iter=100,\n",
              "                   multi_class='auto', n_jobs=None, penalty='l2',\n",
              "                   random_state=None, solver='lbfgs', tol=0.0001, verbose=0,\n",
              "                   warm_start=False)"
            ]
          },
          "metadata": {
            "tags": []
          },
          "execution_count": 1486
        }
      ]
    },
    {
      "cell_type": "code",
      "metadata": {
        "id": "fsKObQixYkpm",
        "colab_type": "code",
        "colab": {}
      },
      "source": [
        "# Predict the Target Variable for both Train and Test data using the model we have trained\n",
        "y_pred_train = logreg.predict(X_train)\n",
        "y_pred_test = logreg.predict(X_test)"
      ],
      "execution_count": null,
      "outputs": []
    },
    {
      "cell_type": "markdown",
      "metadata": {
        "id": "j2UmMumdKGtP",
        "colab_type": "text"
      },
      "source": [
        "__Note the accuracy score for the logistic regression model__"
      ]
    },
    {
      "cell_type": "code",
      "metadata": {
        "id": "BSU-GnnJZGDK",
        "colab_type": "code",
        "colab": {
          "base_uri": "https://localhost:8080/",
          "height": 51
        },
        "outputId": "39ae64d8-d875-4fab-df24-284c669617d4"
      },
      "source": [
        "from sklearn.metrics import accuracy_score, confusion_matrix\n",
        "print('Accuracy score for train data is:', accuracy_score(y_train,y_pred_train))\n",
        "print('Accuracy score for test data is:', accuracy_score(y_test,y_pred_test))"
      ],
      "execution_count": null,
      "outputs": [
        {
          "output_type": "stream",
          "text": [
            "Accuracy score for train data is: 0.7631578947368421\n",
            "Accuracy score for test data is: 0.7241379310344828\n"
          ],
          "name": "stdout"
        }
      ]
    },
    {
      "cell_type": "markdown",
      "metadata": {
        "id": "JM6hEPgZUosc",
        "colab_type": "text"
      },
      "source": [
        "By using **Logistic Regression** model, we obtain the **Accuracy Score** as:-<br>\n",
        "- Train Data : 0.763\n",
        "- Test Data : 0.724 <br>\n",
        "It is fair to say that the model is **slightly overfitting**."
      ]
    },
    {
      "cell_type": "markdown",
      "metadata": {
        "id": "aRzQxrKWRJIY",
        "colab_type": "text"
      },
      "source": [
        "__Below we try GridSearchCV to find best C value__"
      ]
    },
    {
      "cell_type": "code",
      "metadata": {
        "id": "rnJJU4TaRgFF",
        "colab_type": "code",
        "colab": {
          "base_uri": "https://localhost:8080/",
          "height": 306
        },
        "outputId": "b7656b70-493f-497d-c024-ed051eca54a3"
      },
      "source": [
        "from sklearn.model_selection import GridSearchCV \n",
        "\n",
        "c_space = np.logspace(-2, 2, 20) # Create an array of values to be fed as the range of C values\n",
        "param_grid = {'C': c_space}\n",
        "\n",
        "logreg0 = LogisticRegression() # Instantiate a model from LogisticRegression\n",
        "logreg_cv = GridSearchCV(logreg0, param_grid, cv = 8) # Instantiate Grid Search Cross Validation with cv = 8\n",
        "  \n",
        "logreg_cv.fit(X_train,y_train) # Train (i.e. fit) the model with the training data"
      ],
      "execution_count": null,
      "outputs": [
        {
          "output_type": "execute_result",
          "data": {
            "text/plain": [
              "GridSearchCV(cv=8, error_score=nan,\n",
              "             estimator=LogisticRegression(C=1.0, class_weight=None, dual=False,\n",
              "                                          fit_intercept=True,\n",
              "                                          intercept_scaling=1, l1_ratio=None,\n",
              "                                          max_iter=100, multi_class='auto',\n",
              "                                          n_jobs=None, penalty='l2',\n",
              "                                          random_state=None, solver='lbfgs',\n",
              "                                          tol=0.0001, verbose=0,\n",
              "                                          warm_start=False),\n",
              "             iid='deprecated', n_jobs=None,\n",
              "             param_grid={'C': array([1.00000000e-02, 1.6...5090e-02, 4.28133240e-02,\n",
              "       6.95192796e-02, 1.12883789e-01, 1.83298071e-01, 2.97635144e-01,\n",
              "       4.83293024e-01, 7.84759970e-01, 1.27427499e+00, 2.06913808e+00,\n",
              "       3.35981829e+00, 5.45559478e+00, 8.85866790e+00, 1.43844989e+01,\n",
              "       2.33572147e+01, 3.79269019e+01, 6.15848211e+01, 1.00000000e+02])},\n",
              "             pre_dispatch='2*n_jobs', refit=True, return_train_score=False,\n",
              "             scoring=None, verbose=0)"
            ]
          },
          "metadata": {
            "tags": []
          },
          "execution_count": 1489
        }
      ]
    },
    {
      "cell_type": "code",
      "metadata": {
        "id": "3Pojqt4vS-rq",
        "colab_type": "code",
        "colab": {
          "base_uri": "https://localhost:8080/",
          "height": 51
        },
        "outputId": "cc77c53a-04c8-4ae4-8e1f-2590a431a23f"
      },
      "source": [
        "print(\"Tuned Logistic Regression Parameters: {}\".format(logreg_cv.best_params_))  \n",
        "print(\"Best score is {}\".format(logreg_cv.best_score_))"
      ],
      "execution_count": null,
      "outputs": [
        {
          "output_type": "stream",
          "text": [
            "Tuned Logistic Regression Parameters: {'C': 0.18329807108324356}\n",
            "Best score is 0.7373768472906403\n"
          ],
          "name": "stdout"
        }
      ]
    },
    {
      "cell_type": "markdown",
      "metadata": {
        "id": "CSdmLAgubn_6",
        "colab_type": "text"
      },
      "source": [
        "After **tuning** the **Logistic Regression** model for **C values** we get:-<br>\n",
        "- C : 0.183\n",
        "- Best Score : 0.737 <br>\n",
        "So we have **marginally improved** the **accuracy score** and this is also **more reliable** since we have used the **cross validation approach**."
      ]
    },
    {
      "cell_type": "markdown",
      "metadata": {
        "id": "s6ZbpQFr0P1m",
        "colab_type": "text"
      },
      "source": [
        "<a id=section503></a>\n",
        "### 5.3 Precision, Recall and F1 Score for Logistic Regression"
      ]
    },
    {
      "cell_type": "code",
      "metadata": {
        "id": "2bau5Q8f0rIr",
        "colab_type": "code",
        "colab": {
          "base_uri": "https://localhost:8080/",
          "height": 51
        },
        "outputId": "1fb1b649-f34f-4a85-e8a7-18d7652f0b3b"
      },
      "source": [
        "# Precision\n",
        "from sklearn.metrics import precision_score\n",
        "precision_train = precision_score(y_train,y_pred_train)\n",
        "precision_test = precision_score(y_test,y_pred_test)\n",
        "print('Precision score for train data:', precision_train)\n",
        "print('Precision score for test data:', precision_test)"
      ],
      "execution_count": null,
      "outputs": [
        {
          "output_type": "stream",
          "text": [
            "Precision score for train data: 0.6585365853658537\n",
            "Precision score for test data: 0.6\n"
          ],
          "name": "stdout"
        }
      ]
    },
    {
      "cell_type": "code",
      "metadata": {
        "id": "tro27Ojg2lFu",
        "colab_type": "code",
        "colab": {
          "base_uri": "https://localhost:8080/",
          "height": 51
        },
        "outputId": "f224d322-dde5-41e4-8e96-4f32d73058f8"
      },
      "source": [
        "# Recall\n",
        "from sklearn.metrics import recall_score\n",
        "print('Recall score for train data:',recall_score(y_train,y_pred_train))   \n",
        "print('Recall score for test data:',recall_score(y_test,y_pred_test))"
      ],
      "execution_count": null,
      "outputs": [
        {
          "output_type": "stream",
          "text": [
            "Recall score for train data: 0.40298507462686567\n",
            "Recall score for test data: 0.3333333333333333\n"
          ],
          "name": "stdout"
        }
      ]
    },
    {
      "cell_type": "code",
      "metadata": {
        "id": "uVspW5ys3TKO",
        "colab_type": "code",
        "colab": {
          "base_uri": "https://localhost:8080/",
          "height": 51
        },
        "outputId": "0ddb0099-ede4-4ebf-dde7-126e28d2eca4"
      },
      "source": [
        "# F1 Score\n",
        "from sklearn.metrics import f1_score\n",
        "print('F1_score for train data:',f1_score(y_train,y_pred_train))\n",
        "print('F1_score for test data:',f1_score(y_test,y_pred_test))"
      ],
      "execution_count": null,
      "outputs": [
        {
          "output_type": "stream",
          "text": [
            "F1_score for train data: 0.5\n",
            "F1_score for test data: 0.42857142857142855\n"
          ],
          "name": "stdout"
        }
      ]
    },
    {
      "cell_type": "markdown",
      "metadata": {
        "id": "KVWFCG3Neeeh",
        "colab_type": "text"
      },
      "source": [
        "For **Logistic Regression** we observe:-\n",
        "> Precision Scores:-\n",
        "*   Train : 0.659\n",
        "*   Test : 0.600 \n",
        "\n",
        "> Recall Scores:-\n",
        "*   Train : 0.403\n",
        "*   Test : 0.333\n",
        "\n",
        "> F1 Scores:-\n",
        "*   Train : 0.500\n",
        "*   Test : 0.429\n",
        "\n"
      ]
    },
    {
      "cell_type": "markdown",
      "metadata": {
        "id": "LLBy5zySgbZQ",
        "colab_type": "text"
      },
      "source": [
        "- The model is **slightly overfitting** with **train scores greater** than test.\n",
        "- Since the **original dataset** has a approximate split of **70-30** for the **two classes**, it is better to **focus on precision** and **recall scores** rather than accuracy.\n",
        "- Considering, predicting an **actual case of recurrence as non-recurring** (False Negative) is a bigger threat, **recall scores** are most vital.\n",
        "- If we take a **balanced approach**, then we can **focus** on the **F1 scores** (the weighted average of precision and recall).\n",
        "- Since the scores obtained are not impressive, we try another algorithm, Random Forrest next."
      ]
    },
    {
      "cell_type": "markdown",
      "metadata": {
        "id": "bKxe9N1CYdTn",
        "colab_type": "text"
      },
      "source": [
        "<a id=section504></a>\n",
        "### 5.4 Build a Random Forrest model"
      ]
    },
    {
      "cell_type": "code",
      "metadata": {
        "id": "CycrFI8Nwt2j",
        "colab_type": "code",
        "colab": {
          "base_uri": "https://localhost:8080/",
          "height": 153
        },
        "outputId": "5f4e0d80-8e19-429f-83f2-f74dc2a8f6a6"
      },
      "source": [
        "from sklearn.ensemble import RandomForestClassifier\n",
        "\n",
        "rfc = RandomForestClassifier(n_estimators=8, max_features='log2' , max_depth=4, random_state=0) # Instantiate a model from RandomForestClassifier\n",
        "rfc.fit(X_train,y_train) # Train (i.e. fit) the model with the training data"
      ],
      "execution_count": null,
      "outputs": [
        {
          "output_type": "execute_result",
          "data": {
            "text/plain": [
              "RandomForestClassifier(bootstrap=True, ccp_alpha=0.0, class_weight=None,\n",
              "                       criterion='gini', max_depth=4, max_features='log2',\n",
              "                       max_leaf_nodes=None, max_samples=None,\n",
              "                       min_impurity_decrease=0.0, min_impurity_split=None,\n",
              "                       min_samples_leaf=1, min_samples_split=2,\n",
              "                       min_weight_fraction_leaf=0.0, n_estimators=8,\n",
              "                       n_jobs=None, oob_score=False, random_state=0, verbose=0,\n",
              "                       warm_start=False)"
            ]
          },
          "metadata": {
            "tags": []
          },
          "execution_count": 1494
        }
      ]
    },
    {
      "cell_type": "code",
      "metadata": {
        "id": "Z57YP1fyx23I",
        "colab_type": "code",
        "colab": {}
      },
      "source": [
        "# Predict the Target Variable for both Train and Test data using the model we have trained\n",
        "y_pred_train_rf = rfc.predict(X_train)\n",
        "y_pred_test_rf = rfc.predict(X_test)"
      ],
      "execution_count": null,
      "outputs": []
    },
    {
      "cell_type": "markdown",
      "metadata": {
        "id": "UfYmt3IhJyso",
        "colab_type": "text"
      },
      "source": [
        "__Note the accuracy score for the random forrest model__"
      ]
    },
    {
      "cell_type": "code",
      "metadata": {
        "id": "56stfvYpyC2k",
        "colab_type": "code",
        "colab": {
          "base_uri": "https://localhost:8080/",
          "height": 51
        },
        "outputId": "2dbec37a-96e9-4e7e-e28f-10f94d7057f6"
      },
      "source": [
        "print('Accuracy score for train data is:', accuracy_score(y_train,y_pred_train_rf))\n",
        "print('Accuracy score for test data is:', accuracy_score(y_test,y_pred_test_rf))"
      ],
      "execution_count": null,
      "outputs": [
        {
          "output_type": "stream",
          "text": [
            "Accuracy score for train data is: 0.7807017543859649\n",
            "Accuracy score for test data is: 0.7413793103448276\n"
          ],
          "name": "stdout"
        }
      ]
    },
    {
      "cell_type": "markdown",
      "metadata": {
        "id": "4Rs3RdVXjPIp",
        "colab_type": "text"
      },
      "source": [
        "By using **Random Forrest** model, we obtain the **Accuracy Score** as:-<br>\n",
        "- Train Data : 0.781\n",
        "- Test Data : 0.741 <br>\n",
        "It is fair to say that the model is **slightly overfitting**.<br>\n",
        "We observe that the **accuracy score** obtained is a **little better than** what we obtained from **Logistic Regression**."
      ]
    },
    {
      "cell_type": "markdown",
      "metadata": {
        "id": "OoSLnBqnw3mD",
        "colab_type": "text"
      },
      "source": [
        "__Taking a look at the confusion matrix__"
      ]
    },
    {
      "cell_type": "code",
      "metadata": {
        "id": "wYy_Rfryw5Re",
        "colab_type": "code",
        "colab": {
          "base_uri": "https://localhost:8080/",
          "height": 85
        },
        "outputId": "da371a6a-83af-441a-b5e4-5ff8ebf98d68"
      },
      "source": [
        "c_matrix_train_rf = pd.DataFrame(confusion_matrix(y_train, y_pred_train_rf)) # Create a dataframe to capture the confusion matrix\n",
        "c_matrix_train_rf.index = ['Actual no-recurrence-events','Actual recurrence-events']\n",
        "c_matrix_train_rf.columns = ['Predicted no-recurrence-events','Predicted recurrence-events']\n",
        "print(\"Confusion Matrix for Random Forrest for Train set\\n\",c_matrix_train_rf)"
      ],
      "execution_count": null,
      "outputs": [
        {
          "output_type": "stream",
          "text": [
            "Confusion Matrix for Random Forrest for Train set\n",
            "                              Predicted no-recurrence-events  Predicted recurrence-events\n",
            "Actual no-recurrence-events                             157                            4\n",
            "Actual recurrence-events                                 46                           21\n"
          ],
          "name": "stdout"
        }
      ]
    },
    {
      "cell_type": "markdown",
      "metadata": {
        "id": "5XUlXWKuyjgb",
        "colab_type": "text"
      },
      "source": [
        "This means 157 + 21 = __178 correct predictions__ & 46 + 4 = __50 false predictions__."
      ]
    },
    {
      "cell_type": "code",
      "metadata": {
        "id": "Jo1i8Nq-zk9I",
        "colab_type": "code",
        "colab": {
          "base_uri": "https://localhost:8080/",
          "height": 85
        },
        "outputId": "a9240700-1962-4a31-ecb7-eddf3959644f"
      },
      "source": [
        "c_matrix_test_rf = pd.DataFrame(confusion_matrix(y_test, y_pred_test_rf))\n",
        "c_matrix_test_rf.index = ['Actual no-recurrence-events','Actual recurrence-events']\n",
        "c_matrix_test_rf.columns = ['Predicted no-recurrence-events','Predicted recurrence-events']\n",
        "print(\"Confusion Matrix for Random Forrest for test set\\n\",c_matrix_test_rf)"
      ],
      "execution_count": null,
      "outputs": [
        {
          "output_type": "stream",
          "text": [
            "Confusion Matrix for Random Forrest for test set\n",
            "                              Predicted no-recurrence-events  Predicted recurrence-events\n",
            "Actual no-recurrence-events                              38                            2\n",
            "Actual recurrence-events                                 13                            5\n"
          ],
          "name": "stdout"
        }
      ]
    },
    {
      "cell_type": "markdown",
      "metadata": {
        "id": "1QqZOx5ozj2m",
        "colab_type": "text"
      },
      "source": [
        "This means 38 + 5 = __43 correct predictions__ & 13 + 2 = __15 false predictions__."
      ]
    },
    {
      "cell_type": "markdown",
      "metadata": {
        "id": "Ot5cKu6g0xz2",
        "colab_type": "text"
      },
      "source": [
        "<a id=section505></a>\n",
        "### 5.5 Precision, Recall and F1 Score for Random Forrest"
      ]
    },
    {
      "cell_type": "code",
      "metadata": {
        "id": "b7Y1aM5L00cz",
        "colab_type": "code",
        "colab": {
          "base_uri": "https://localhost:8080/",
          "height": 51
        },
        "outputId": "9302fda4-2458-416c-df2e-98e212c82dcb"
      },
      "source": [
        "# Precision\n",
        "from sklearn.metrics import precision_score\n",
        "precision_train = precision_score(y_train,y_pred_train_rf)\n",
        "precision_test = precision_score(y_test,y_pred_test_rf)\n",
        "print('Precision score for train data:', precision_train)\n",
        "print('Precision score for test data:', precision_test)"
      ],
      "execution_count": null,
      "outputs": [
        {
          "output_type": "stream",
          "text": [
            "Precision score for train data: 0.84\n",
            "Precision score for test data: 0.7142857142857143\n"
          ],
          "name": "stdout"
        }
      ]
    },
    {
      "cell_type": "code",
      "metadata": {
        "id": "v-b1Yay708jr",
        "colab_type": "code",
        "colab": {
          "base_uri": "https://localhost:8080/",
          "height": 51
        },
        "outputId": "8b625a7e-28f0-453d-d2d2-a2abb27024fa"
      },
      "source": [
        "# Recall\n",
        "from sklearn.metrics import recall_score\n",
        "print('Recall score for train data:',recall_score(y_train,y_pred_train_rf))   \n",
        "print('Recall score for test data:',recall_score(y_test,y_pred_test_rf))"
      ],
      "execution_count": null,
      "outputs": [
        {
          "output_type": "stream",
          "text": [
            "Recall score for train data: 0.31343283582089554\n",
            "Recall score for test data: 0.2777777777777778\n"
          ],
          "name": "stdout"
        }
      ]
    },
    {
      "cell_type": "code",
      "metadata": {
        "id": "Dj4xqHWg0_4m",
        "colab_type": "code",
        "colab": {
          "base_uri": "https://localhost:8080/",
          "height": 51
        },
        "outputId": "ce0cd1ad-2d0d-4a9e-ad3b-cebf3b5be1b3"
      },
      "source": [
        "# F1 Score\n",
        "from sklearn.metrics import f1_score\n",
        "print('F1_score for train data:',f1_score(y_train,y_pred_train_rf))\n",
        "print('F1_score for test data:',f1_score(y_test,y_pred_test_rf))"
      ],
      "execution_count": null,
      "outputs": [
        {
          "output_type": "stream",
          "text": [
            "F1_score for train data: 0.4565217391304348\n",
            "F1_score for test data: 0.4\n"
          ],
          "name": "stdout"
        }
      ]
    },
    {
      "cell_type": "markdown",
      "metadata": {
        "id": "aEqgqhTqlNLA",
        "colab_type": "text"
      },
      "source": [
        "For **Random Forrest** we observe:-\n",
        "> Precision Scores:-\n",
        "*   Train : 0.840\n",
        "*   Test : 0.714 \n",
        "\n",
        "> Recall Scores:-\n",
        "*   Train : 0.313\n",
        "*   Test : 0.278\n",
        "\n",
        "> F1 Scores:-\n",
        "*   Train : 0.457\n",
        "*   Test : 0.400\n"
      ]
    },
    {
      "cell_type": "markdown",
      "metadata": {
        "id": "M-yZDDIlmUm9",
        "colab_type": "text"
      },
      "source": [
        "- The model is **overfitting** with **train scores greater** than test.\n",
        "- From **magnitude** perspective **precision** scores of **Random Forrest** are much **better than Logistic Regression** but it is **highly overfitting** at the same time.\n",
        "- **Recall scores** are poor for **Random Forrest** but **overfitting** is **negligible**.\n",
        "- If we take a **balanced approach**, then we can **focus** on the **F1 scores**. This way, **Random Forrest** is **more robust** (train and test scores nearer) although **magnitude** of **Logistic Regression** was **higher**.\n"
      ]
    },
    {
      "cell_type": "markdown",
      "metadata": {
        "id": "YcCReCIWLWeb",
        "colab_type": "text"
      },
      "source": [
        "<a id=section506></a>\n",
        "### 5.6 Tune the Random Forrest model"
      ]
    },
    {
      "cell_type": "markdown",
      "metadata": {
        "id": "WKdZiMDniEFT",
        "colab_type": "text"
      },
      "source": [
        "__Use hyper parameter for Random Forrest tuning using Random Search__"
      ]
    },
    {
      "cell_type": "code",
      "metadata": {
        "id": "zOrNHhKciQTj",
        "colab_type": "code",
        "colab": {}
      },
      "source": [
        "from sklearn.model_selection import RandomizedSearchCV\n",
        "# parameters for RandomSearchCV\n",
        "param_dist = {\"max_depth\": range(2,8),\n",
        "              \"min_samples_split\": range(4, 11),\n",
        "              \"min_samples_leaf\": range(1, 5),\n",
        "              \"bootstrap\": [True,False],\n",
        "              \"n_estimators\": [10, 60],\n",
        "              \"criterion\" : [\"gini\", \"entropy\"],\n",
        "              'max_features': ['sqrt', 'log2',5]\n",
        "             }\n",
        "# run randomized search\n",
        "n_iter_search = 80\n",
        "rfc_tuned = RandomizedSearchCV(rfc, param_distributions = param_dist,\n",
        "                                   n_iter = n_iter_search,\n",
        "                                   n_jobs = -1)"
      ],
      "execution_count": null,
      "outputs": []
    },
    {
      "cell_type": "code",
      "metadata": {
        "id": "5U7r90NgjTDC",
        "colab_type": "code",
        "colab": {
          "base_uri": "https://localhost:8080/",
          "height": 442
        },
        "outputId": "17d358c7-a959-4863-fc50-2f3a84ec8dd1"
      },
      "source": [
        "rfc_tuned.fit(X_train, y_train) # Train (i.e. fit) the model with the training data"
      ],
      "execution_count": null,
      "outputs": [
        {
          "output_type": "execute_result",
          "data": {
            "text/plain": [
              "RandomizedSearchCV(cv=None, error_score=nan,\n",
              "                   estimator=RandomForestClassifier(bootstrap=True,\n",
              "                                                    ccp_alpha=0.0,\n",
              "                                                    class_weight=None,\n",
              "                                                    criterion='gini',\n",
              "                                                    max_depth=4,\n",
              "                                                    max_features='log2',\n",
              "                                                    max_leaf_nodes=None,\n",
              "                                                    max_samples=None,\n",
              "                                                    min_impurity_decrease=0.0,\n",
              "                                                    min_impurity_split=None,\n",
              "                                                    min_samples_leaf=1,\n",
              "                                                    min_samples_split=2,\n",
              "                                                    min_weight_fraction_leaf=0.0,\n",
              "                                                    n_estimators=8, n_jobs=N...\n",
              "                   iid='deprecated', n_iter=80, n_jobs=-1,\n",
              "                   param_distributions={'bootstrap': [True, False],\n",
              "                                        'criterion': ['gini', 'entropy'],\n",
              "                                        'max_depth': range(2, 8),\n",
              "                                        'max_features': ['sqrt', 'log2', 5],\n",
              "                                        'min_samples_leaf': range(1, 5),\n",
              "                                        'min_samples_split': range(4, 11),\n",
              "                                        'n_estimators': [10, 60]},\n",
              "                   pre_dispatch='2*n_jobs', random_state=None, refit=True,\n",
              "                   return_train_score=False, scoring=None, verbose=0)"
            ]
          },
          "metadata": {
            "tags": []
          },
          "execution_count": 1503
        }
      ]
    },
    {
      "cell_type": "code",
      "metadata": {
        "id": "gWwV0PdMkOm1",
        "colab_type": "code",
        "colab": {}
      },
      "source": [
        "# Predict the Target Variable for both Train and Test data using the model we have trained\n",
        "y_pred_train_rf_tuned = rfc_tuned.predict(X_train)\n",
        "y_pred_test_rf_tuned = rfc_tuned.predict(X_test)"
      ],
      "execution_count": null,
      "outputs": []
    },
    {
      "cell_type": "markdown",
      "metadata": {
        "id": "dsdr2htBlCDZ",
        "colab_type": "text"
      },
      "source": [
        "__Accuracy Score after tuning random forrest__"
      ]
    },
    {
      "cell_type": "code",
      "metadata": {
        "id": "aJWNyf7mlIb9",
        "colab_type": "code",
        "colab": {
          "base_uri": "https://localhost:8080/",
          "height": 51
        },
        "outputId": "0eb09b34-f274-4e29-a651-1ff3b956c8fd"
      },
      "source": [
        "print('Accuracy score for train data is:', accuracy_score(y_train,y_pred_train_rf_tuned))\n",
        "print('Accuracy score for test data is:', accuracy_score(y_test,y_pred_test_rf_tuned))"
      ],
      "execution_count": null,
      "outputs": [
        {
          "output_type": "stream",
          "text": [
            "Accuracy score for train data is: 0.8114035087719298\n",
            "Accuracy score for test data is: 0.7758620689655172\n"
          ],
          "name": "stdout"
        }
      ]
    },
    {
      "cell_type": "markdown",
      "metadata": {
        "id": "S-oytCNCogTR",
        "colab_type": "text"
      },
      "source": [
        "By using **Tuned Random Forrest** model, we obtain the **Accuracy Score** as:-<br>\n",
        "- Train Data : 0.811\n",
        "- Test Data : 0.776 <br>\n",
        "It is fair to say that the model is **slightly overfitting**.<br>\n",
        "We observe that the **accuracy score** obtained is the **best** beating the scores we obtained from **Random Forrest** and **Logistic Regression**."
      ]
    },
    {
      "cell_type": "markdown",
      "metadata": {
        "id": "L53cmitYmLYw",
        "colab_type": "text"
      },
      "source": [
        "<a id=section507></a>\n",
        "### 5.7 Precision, Recall and F1 Score after tuning Random Forrest"
      ]
    },
    {
      "cell_type": "code",
      "metadata": {
        "id": "QekI3FsLmxMQ",
        "colab_type": "code",
        "colab": {
          "base_uri": "https://localhost:8080/",
          "height": 51
        },
        "outputId": "063ecc09-7f94-4455-a4b9-0c351e616b4a"
      },
      "source": [
        "# Precision\n",
        "precision_train_tuned = precision_score(y_train,y_pred_train_rf_tuned)\n",
        "precision_test_tuned = precision_score(y_test,y_pred_test_rf_tuned)\n",
        "print('Precision score for train data:', precision_train_tuned)\n",
        "print('Precision score for test data:', precision_test_tuned)"
      ],
      "execution_count": null,
      "outputs": [
        {
          "output_type": "stream",
          "text": [
            "Precision score for train data: 0.9285714285714286\n",
            "Precision score for test data: 0.8571428571428571\n"
          ],
          "name": "stdout"
        }
      ]
    },
    {
      "cell_type": "code",
      "metadata": {
        "id": "Zs_NPVWeoM5i",
        "colab_type": "code",
        "colab": {
          "base_uri": "https://localhost:8080/",
          "height": 51
        },
        "outputId": "90011be3-4fef-40b2-bfc5-bbe5ff032089"
      },
      "source": [
        "# Recall\n",
        "print('Recall score for train data:',recall_score(y_train,y_pred_train_rf_tuned))   \n",
        "print('Recall score for test data:',recall_score(y_test,y_pred_test_rf_tuned))"
      ],
      "execution_count": null,
      "outputs": [
        {
          "output_type": "stream",
          "text": [
            "Recall score for train data: 0.3880597014925373\n",
            "Recall score for test data: 0.3333333333333333\n"
          ],
          "name": "stdout"
        }
      ]
    },
    {
      "cell_type": "code",
      "metadata": {
        "id": "I-p8204sosPP",
        "colab_type": "code",
        "colab": {
          "base_uri": "https://localhost:8080/",
          "height": 51
        },
        "outputId": "577d9401-ca40-4b82-cb09-1c90a0737b5a"
      },
      "source": [
        "# F1 Score\n",
        "print('F1_score for train data:',f1_score(y_train,y_pred_train_rf_tuned))\n",
        "print('F1_score for test data:',f1_score(y_test,y_pred_test_rf_tuned))"
      ],
      "execution_count": null,
      "outputs": [
        {
          "output_type": "stream",
          "text": [
            "F1_score for train data: 0.5473684210526316\n",
            "F1_score for test data: 0.48\n"
          ],
          "name": "stdout"
        }
      ]
    },
    {
      "cell_type": "markdown",
      "metadata": {
        "id": "lMVb7MYOpkoo",
        "colab_type": "text"
      },
      "source": [
        "For **Tuned Random Forrest** we observe:-\n",
        "> Precision Scores:-\n",
        "*   Train : 0.929\n",
        "*   Test : 0.857 \n",
        "\n",
        "> Recall Scores:-\n",
        "*   Train : 0.388\n",
        "*   Test : 0.333\n",
        "\n",
        "> F1 Scores:-\n",
        "*   Train : 0.547\n",
        "*   Test : 0.480\n"
      ]
    },
    {
      "cell_type": "markdown",
      "metadata": {
        "id": "cW27GR9bNhmQ",
        "colab_type": "text"
      },
      "source": [
        "- The model is still **slightly overfitting**.\n",
        "- The **precision scores** obtained are the **highest**.\n",
        "- The **recall score** on **test** data is same as that for **Logistic Regression**. Overall **Tuned Random Forrest** should be the **first choice** since the difference between **test** and **train** score is **lower than** that in case of **Logistic Regression**.\n",
        "- Going by **F1 scores**, again **Tuned Random Forrest** gives the **best result**.\n"
      ]
    },
    {
      "cell_type": "markdown",
      "metadata": {
        "id": "YHarZsYrMDDy",
        "colab_type": "text"
      },
      "source": [
        "<a id=section508></a>\n",
        "### 5.8 Summary of Model Evaluation"
      ]
    },
    {
      "cell_type": "markdown",
      "metadata": {
        "id": "UxaAeZcRRXOV",
        "colab_type": "text"
      },
      "source": [
        "- Based on **Accuracy Scores**, the algorithms in increasing order of performance are : **Logistic Regression < Random Forrest < Tuned Random Forrest**.\n",
        "- Because we believe the **dataset** to be **imbalanced** we look into **Precision, Recall and F1 scores**.\n",
        "- Since our take is that the **minority** class, **recurring events** is more vital to be anticipated and it is **costly** if we **miss to predict** such cases, we put more **weightage** on **recall scores**.\n",
        "- Judging by **Precision scores**, **Tuned Random Forrest** is the best. Although by magnitude, **Random Forrest** is better than **Logistic Regression**, also keeping **robustness** in mind we put **Random Forrest** as the **worst**.\n",
        "- Going by **Recall scores**, clearly **Random Forrest** is the **worst**. **Tuned Random Forrest** and **Logistic Regression** both have the **same test recall** but since the former has a **lower train recall** (more robust), we adjudge it to be the best.\n",
        "- If we want to look at how **balanced** the model performances are, then judging by **F1 scores**, the algoritms in increasing order of scores are : **Random Forrest < Logistic Regression < Tuned Random Forrest**.\n",
        "- So we conclude that going by the comparative study of evaluation metrics, **Tuned Random Forrest** performs the **best**."
      ]
    },
    {
      "cell_type": "markdown",
      "metadata": {
        "id": "MIQPQ_CEMNR3",
        "colab_type": "text"
      },
      "source": [
        "<a id=section6></a>\n",
        "## 6. Conclusion"
      ]
    },
    {
      "cell_type": "markdown",
      "metadata": {
        "id": "2ntTTjKAxbaa",
        "colab_type": "text"
      },
      "source": [
        "- We have tried to build a **binary classifier** to **predict** if a patient will have a **recurrence event or not**.\n",
        "- We have used the **Logistic Regression** as well as the **Random Forrest** (including a **tuned version**) algorithms to build the model.\n",
        "- All the models are **slightly overfitting**, **tuning reduced it** but was not totally removed.\n",
        "- Since the **base dataset** had a **split of 70-30** (imbalanced) between the two classes. Hence metrics like **Precision, Recall and F1** scores were **preferred**.\n",
        "- From our perspective, **this problem** demands that **false predictions of non-recurrence** have to be **lower**, so we judge **Recall score** to be most significant. The **Tuned Random Forrest** model turned out to be the best.\n",
        "- However, even the Recall **score** for this one was **not very impressive**.\n",
        "- **Scope for improvement** :-\n",
        "\n",
        "\n",
        "> 1. We may **reduce** the probability **threshold**, therein **predicting** the **positive class more often**. This would improve the Recall value.\n",
        "> 2. We also should look for trying other classification algorithms like **K Nearest Neighbour, Naive Bayes Classifier, SVM, neural networks** and more, which might help us to achieve a better model.\n",
        "> 3. We should try to **increase** the **train dataset** if that improves the **learning** of **pattern present** in the data. This would also help us be **more confident** of the **robustness of our model**.\n",
        "\n",
        "\n"
      ]
    }
  ]
}